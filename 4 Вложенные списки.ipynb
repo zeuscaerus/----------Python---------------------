{
 "cells": [
  {
   "attachments": {},
   "cell_type": "markdown",
   "metadata": {},
   "source": [
    "4.2 Вложенные списки. Часть 1"
   ]
  },
  {
   "attachments": {},
   "cell_type": "markdown",
   "metadata": {},
   "source": [
    "Дополните приведенный код, используя списочный метод append(), чтобы список list1 имел вид:\n",
    "\n",
    "list1 = [10, 20, [300, 400, [5000, 6000, 7000], 500], 30, 40]"
   ]
  },
  {
   "cell_type": "code",
   "execution_count": 16,
   "metadata": {},
   "outputs": [
    {
     "name": "stdout",
     "output_type": "stream",
     "text": [
      "[10, 20, [300, 400, [5000, 6000, 7000], 500], 30, 40]\n"
     ]
    }
   ],
   "source": [
    "list1 = [10, 20, [300, 400, [5000, 6000], 500], 30, 40]\n",
    "list1[2][2].append(7000)\n",
    "print(list1)"
   ]
  },
  {
   "attachments": {},
   "cell_type": "markdown",
   "metadata": {},
   "source": [
    "Дополните приведенный код, используя списочный метод extend(), чтобы список list1 имел вид:\n",
    "\n",
    "list1 = ['a', 'b', ['c', ['d', 'e', ['f', 'g', 'h', 'i', 'j'], 'k'], 'l'], 'm', 'n']\n",
    "\n",
    "Подсписок для расширения  sub_list = ['h', 'i', 'j']."
   ]
  },
  {
   "cell_type": "code",
   "execution_count": 6,
   "metadata": {},
   "outputs": [
    {
     "name": "stdout",
     "output_type": "stream",
     "text": [
      "['a', 'b', ['c', ['d', 'e', ['f', 'g', 'h', 'i', 'j'], 'k'], 'l'], 'm', 'n']\n"
     ]
    }
   ],
   "source": [
    "list1 = ['a', 'b', ['c', ['d', 'e', ['f', 'g'], 'k'], 'l'], 'm', 'n']\n",
    "sub_list = ['h', 'i', 'j']\n",
    "list1[2][1][2].extend(sub_list)\n",
    "print(list1)\n"
   ]
  },
  {
   "attachments": {},
   "cell_type": "markdown",
   "metadata": {},
   "source": [
    "Дополните приведенный код, используя цикл for и встроенную функцию max(), чтобы он выводил один общий максимальный элемент среди всех элементов вложенных списков list1."
   ]
  },
  {
   "cell_type": "code",
   "execution_count": 62,
   "metadata": {},
   "outputs": [
    {
     "name": "stdout",
     "output_type": "stream",
     "text": [
      "106\n"
     ]
    }
   ],
   "source": [
    "def maximum(my_list: list): # после первого двоеточия идет указания о том, какой тип данных необходим для данной ф-ции \n",
    "    return max([max(i) for i in my_list])\n",
    "\n",
    "list1 = [[1, 7, 8], [9, 7, 102], [6, 106, 105], [100, 99, 98, 103], [1, 2, 3]]\n",
    "print(maximum(list1))\n"
   ]
  },
  {
   "attachments": {},
   "cell_type": "markdown",
   "metadata": {},
   "source": [
    "Дополните приведенный код так, чтобы список list1 имел вид:\n",
    "\n",
    "list1 = [[8, 7, 1], [102, 7, 9], [105, 106, 102], [103, 98, 99, 100], [3, 2, 1]]"
   ]
  },
  {
   "cell_type": "code",
   "execution_count": 61,
   "metadata": {},
   "outputs": [
    {
     "name": "stdout",
     "output_type": "stream",
     "text": [
      "[[8, 7, 1], [102, 7, 9], [105, 106, 102], [103, 98, 99, 100], [3, 2, 1]]\n"
     ]
    }
   ],
   "source": [
    "def reverse_list(my_list: list): # после первого двоеточия идет указания о том, какой тип данных необходим для данной ф-ции \n",
    "    return [i[::-1] for i in my_list]\n",
    "\n",
    "list1 = [[1, 7, 8], [9, 7, 102], [102, 106, 105], [100, 99, 98, 103], [1, 2, 3]]\n",
    "print(reverse_list(list1))"
   ]
  },
  {
   "attachments": {},
   "cell_type": "markdown",
   "metadata": {},
   "source": [
    "Дополните приведенный код так, чтобы он выводил единственное число: сумму всех чисел списка list1 разделённую на общее количество всех чисел."
   ]
  },
  {
   "cell_type": "code",
   "execution_count": 63,
   "metadata": {},
   "outputs": [
    {
     "name": "stdout",
     "output_type": "stream",
     "text": [
      "53.3125\n"
     ]
    }
   ],
   "source": [
    "def middle(my_list: list): # после первого двоеточия идет указания о том, какой тип данных необходим для данной ф-ции \n",
    "    total=sum([sum(i) for i in my_list])\n",
    "    count=sum([len(j) for j in my_list])\n",
    "    return total/count\n",
    "\n",
    "list1 = [[1, 7, 8], [9, 7, 102], [102, 106, 105], [100, 99, 98, 103], [1, 2, 3]]\n",
    "print(middle(list1))"
   ]
  },
  {
   "attachments": {},
   "cell_type": "markdown",
   "metadata": {},
   "source": [
    "4.3 Вложенные списки. Часть 2"
   ]
  },
  {
   "attachments": {},
   "cell_type": "markdown",
   "metadata": {},
   "source": [
    "Что покажет приведенный ниже фрагмент кода?\n",
    "\n",
    "list1 = [[1, 2, 3], [4, 5]]</br>\n",
    "list2 = list1</br>\n",
    "\n",
    "list1[0].append(7)</br>\n",
    "\n",
    "print(list2)"
   ]
  },
  {
   "cell_type": "code",
   "execution_count": 1,
   "metadata": {},
   "outputs": [
    {
     "name": "stdout",
     "output_type": "stream",
     "text": [
      "[[1, 2, 3, 7], [4, 5]]\n"
     ]
    }
   ],
   "source": [
    "list1 = [[1, 2, 3], [4, 5]]\n",
    "list2 = list1\n",
    "list1[0].append(7)\n",
    "print(list2)"
   ]
  },
  {
   "attachments": {},
   "cell_type": "markdown",
   "metadata": {},
   "source": [
    "Чему будет равно list1[1][1] после выполнения следующего фрагмента кода:\n",
    "\n",
    "list1 = [[1] * 3] * 3</br>\n",
    "list1[0][1] = 5"
   ]
  },
  {
   "cell_type": "code",
   "execution_count": 2,
   "metadata": {},
   "outputs": [
    {
     "name": "stdout",
     "output_type": "stream",
     "text": [
      "5\n"
     ]
    }
   ],
   "source": [
    "list1 = [[1] * 3] * 3\n",
    "list1[0][1] = 5\n",
    "print(list1[1][1])"
   ]
  },
  {
   "attachments": {},
   "cell_type": "markdown",
   "metadata": {},
   "source": [
    "Что покажет приведенный ниже фрагмент кода\n",
    "\n",
    "n = 3</br>\n",
    "list1 = []</br>\n",
    "for _ in range(n):</br>\n",
    "    row = input().split()</br>\n",
    "    list1.extend(row)</br>\n",
    "print(list1)\n",
    "\n",
    "если на вход программе подаются строки:\n",
    "\n",
    "9 7 6</br>\n",
    "2 1</br>\n",
    "3 4 45 67</br>"
   ]
  },
  {
   "cell_type": "code",
   "execution_count": 3,
   "metadata": {},
   "outputs": [
    {
     "name": "stdout",
     "output_type": "stream",
     "text": [
      "['9', '7', '6', '2', '1', '3', '4', '45', '67']\n"
     ]
    }
   ],
   "source": [
    "n = 3\n",
    "list1 = []\n",
    "\n",
    "for _ in range(n):\n",
    "    row = input().split()\n",
    "    list1.extend(row)\n",
    "\n",
    "print(list1)"
   ]
  },
  {
   "attachments": {},
   "cell_type": "markdown",
   "metadata": {},
   "source": [
    "Что покажет приведенный ниже фрагмент кода?\n",
    "\n",
    "my_list = [[12, 221, 3], [41, 5, 633], [71, 8, 99]]</br>\n",
    "maximum = my_list[0][0]</br>\n",
    "minimum = my_list[0][0]</br>\n",
    "for row in my_list:</br>\n",
    "    maximum = max(row)</br>\n",
    "    minimum = min(row)</br>\n",
    "print(maximum + minimum)</br>"
   ]
  },
  {
   "cell_type": "code",
   "execution_count": 4,
   "metadata": {},
   "outputs": [
    {
     "name": "stdout",
     "output_type": "stream",
     "text": [
      "107\n"
     ]
    }
   ],
   "source": [
    "my_list = [[12, 221, 3], [41, 5, 633], [71, 8, 99]]\n",
    "maximum = my_list[0][0]\n",
    "minimum = my_list[0][0]\n",
    "for row in my_list:\n",
    "    maximum = max(row)\n",
    "    minimum = min(row)\n",
    "print(maximum + minimum)"
   ]
  },
  {
   "attachments": {},
   "cell_type": "markdown",
   "metadata": {},
   "source": [
    "Что покажет приведенный ниже фрагмент кода?\n",
    "\n",
    "my_list = [[12, 221, 3], [41, 5, 633], [71, 8, 99]]</br>\n",
    "maximum = my_list[0][0]</br>\n",
    "minimum = my_list[0][0]</br>\n",
    "for row in my_list:</br>\n",
    "    if max(row) > maximum:</br>\n",
    "        maximum = max(row)</br>\n",
    "    if min(row) < minimum:</br>\n",
    "        minimum = min(row)</br>\n",
    "print(maximum + minimum)</br>"
   ]
  },
  {
   "cell_type": "code",
   "execution_count": 5,
   "metadata": {},
   "outputs": [
    {
     "name": "stdout",
     "output_type": "stream",
     "text": [
      "636\n"
     ]
    }
   ],
   "source": [
    "my_list = [[12, 221, 3], [41, 5, 633], [71, 8, 99]]\n",
    "maximum = my_list[0][0]\n",
    "minimum = my_list[0][0]\n",
    "for row in my_list:\n",
    "    if max(row) > maximum:\n",
    "        maximum = max(row)\n",
    "    if min(row) < minimum:\n",
    "        minimum = min(row)\n",
    "print(maximum + minimum)"
   ]
  },
  {
   "attachments": {},
   "cell_type": "markdown",
   "metadata": {},
   "source": [
    "Список по образцу 1\n",
    "\n",
    "На вход программе подается число n. Напишите программу, которая создает и выводит построчно список, состоящий из n списков [[1, 2, ..., n], [1, 2, ..., n], ..., [1, 2, ..., n]].\n",
    "\n",
    "Формат входных данных:</br>\n",
    "На вход программе подается натуральное число n.\n",
    "\n",
    "Формат выходных данных:</br>\n",
    "Программа должна вывести построчно указанный список."
   ]
  },
  {
   "cell_type": "code",
   "execution_count": 40,
   "metadata": {},
   "outputs": [
    {
     "name": "stdout",
     "output_type": "stream",
     "text": [
      "[1, 2, 3, 4]\n",
      "[1, 2, 3, 4]\n",
      "[1, 2, 3, 4]\n",
      "[1, 2, 3, 4]\n",
      "\n"
     ]
    }
   ],
   "source": [
    "x=int(input())\n",
    "y=[i for i in range(1,x+1)]\n",
    "for j in range(x):\n",
    "    print(y)\n",
    "print()"
   ]
  },
  {
   "cell_type": "code",
   "execution_count": 41,
   "metadata": {},
   "outputs": [
    {
     "name": "stdout",
     "output_type": "stream",
     "text": [
      "[1, 2, 3, 4]\n",
      "[1, 2, 3, 4]\n",
      "[1, 2, 3, 4]\n",
      "[1, 2, 3, 4]\n"
     ]
    }
   ],
   "source": [
    "#правильное решение от автора курса\n",
    "n = int(input())\n",
    "result = []\n",
    "\n",
    "for _ in range(n):\n",
    "    result.append(list(range(1, n + 1)))\n",
    "\n",
    "print(*result, sep='\\n')"
   ]
  },
  {
   "attachments": {},
   "cell_type": "markdown",
   "metadata": {},
   "source": [
    "Список по образцу 2\n",
    "\n",
    "На вход программе подается числоиn. Напишите программу, которая создает и выводит построчно вложенный список, состоящий из n списков [[1], [1, 2], [1, 2, 3], ..., [1, 2, ..., n]].\n",
    "\n",
    "Формат входных данных:</br>\n",
    "На вход программе подается натуральное число n.\n",
    "\n",
    "Формат выходных данных:</br>\n",
    "Программа должна вывести построчно указанный вложенный список."
   ]
  },
  {
   "cell_type": "code",
   "execution_count": 50,
   "metadata": {},
   "outputs": [
    {
     "name": "stdout",
     "output_type": "stream",
     "text": [
      "[1]\n",
      "[1, 2]\n",
      "[1, 2, 3]\n",
      "[1, 2, 3, 4]\n"
     ]
    }
   ],
   "source": [
    "x=int(input())\n",
    "z=[]\n",
    "for i in range(1, x+1):\n",
    "    y=[i+1 for i in range(i)]\n",
    "    z.append(y)\n",
    "print(*z, sep='\\n')"
   ]
  },
  {
   "attachments": {},
   "cell_type": "markdown",
   "metadata": {},
   "source": [
    "Треугольник Паскаля 1 🌶️\n",
    "\n",
    "Треугольник Паскаля — бесконечная таблица биномиальных коэффициентов, имеющая треугольную форму. В этом треугольнике на вершине и по бокам стоят единицы. Каждое число равно сумме двух расположенных над ним чисел.\n",
    "\n",
    "0:      1</br>\n",
    "1:     1 1</br>\n",
    "2:    1 2 1</br>\n",
    "3:   1 3 3 1</br>\n",
    "4:  1 4 6 4 1</br>\n",
    "      .....\n",
    "      \n",
    "На вход программе подается число n. Напишите программу, которая возвращает указанную строку треугольника Паскаля в виде списка (нумерация строк начинается с нуля).\n",
    "\n",
    "Формат входных данных:</br>\n",
    "На вход программе подается число n (n≥0).\n",
    "\n",
    "Формат выходных данных:</br>\n",
    "Программа должна вывести указанную строку треугольника Паскаля в виде списка.\n",
    "\n",
    "Примечание 1. Решение удобно оформить в виде функции pascal(), которая принимает номер строки и возвращает соответствующую строку треугольника Паскаля.\n",
    "\n",
    "Примечание 2. Графическая иллюстрация формирования треугольника Паскаля."
   ]
  },
  {
   "cell_type": "code",
   "execution_count": 5,
   "metadata": {},
   "outputs": [
    {
     "name": "stdout",
     "output_type": "stream",
     "text": [
      "[1, 2, 1]\n"
     ]
    }
   ],
   "source": [
    "from math import factorial \n",
    "\n",
    "def pascal(num: int):\n",
    "    z=[]\n",
    "    for i in range(num+1):\n",
    "        z.append(int(factorial(num) / (factorial(i)*factorial(num-i))))\n",
    "    return z\n",
    "\n",
    "x=int(input())\n",
    "print(pascal(x))"
   ]
  },
  {
   "attachments": {},
   "cell_type": "markdown",
   "metadata": {},
   "source": [
    "Треугольник Паскаля 2\n",
    "\n",
    "На вход программе подается натуральное число n. Напишите программу, которая выводит первые n строк треугольника Паскаля.\n",
    "\n",
    "Формат входных данных:</br>\n",
    "На вход программе подается число n (n≥1).\n",
    "\n",
    "Формат выходных данных:</br>\n",
    "Программа должна вывести первые n строк треугольника Паскаля, каждую на отдельной строке в соответствии с образцом."
   ]
  },
  {
   "cell_type": "code",
   "execution_count": 49,
   "metadata": {},
   "outputs": [
    {
     "name": "stdout",
     "output_type": "stream",
     "text": [
      "1 \n",
      "1 1 \n",
      "1 2 1 \n",
      "1 3 3 1 \n",
      "1 4 6 4 1 \n",
      "1 5 10 10 5 1 \n"
     ]
    }
   ],
   "source": [
    "from math import factorial\n",
    "x=int(input())\n",
    "for i in range(x):\n",
    "    for j in range(i+1):\n",
    "        print(factorial(i)//(factorial(j)*factorial(i-j)), end=\" \") # nCr = n!/((n-r)!*r!)\n",
    "    print()"
   ]
  },
  {
   "attachments": {},
   "cell_type": "markdown",
   "metadata": {},
   "source": [
    "Упаковка дубликатов 🌶️\n",
    "\n",
    "На вход программе подается строка текста, содержащая символы. Напишите программу, которая упаковывает последовательности одинаковых символов заданной строки в подсписки.\n",
    "\n",
    "Формат входных данных:</br>\n",
    "На вход программе подается строка текста, содержащая символы, отделенные символом пробела.\n",
    "\n",
    "Формат выходных данных:</br>\n",
    "Программа должна вывести указанный вложенный список."
   ]
  },
  {
   "cell_type": "code",
   "execution_count": 67,
   "metadata": {},
   "outputs": [
    {
     "name": "stdout",
     "output_type": "stream",
     "text": [
      "[['a', 'a', 'a'], ['f'], ['g'], ['f', 'f'], ['y', 'y', 'y', 'y', 'y', 'y']]\n"
     ]
    }
   ],
   "source": [
    "def groupby(phraze: str):\n",
    "    from itertools import groupby\n",
    "    res =[list(v) for k, v in groupby(phraze.split())]\n",
    "    return res\n",
    "\n",
    "x=input()\n",
    "print(groupby(x))"
   ]
  },
  {
   "attachments": {},
   "cell_type": "markdown",
   "metadata": {},
   "source": [
    "Разбиение на чанки 🌶️\n",
    "\n",
    "На вход программе подаются две строки, на одной символы, на другой число n. Из первой строки формируется список.\n",
    "\n",
    "Реализуйте функцию chunked(), которая принимает на вход список и число, задающее размер чанка (куска), а возвращает список из чанков указанной длины.\n",
    "\n",
    "Формат входных данных:</br>\n",
    "На вход программе подается строка текста, содержащая символы, отделенные символом пробела и число n на отдельной строке.\n",
    "\n",
    "Формат выходных данных:</br>\n",
    "Программа должна вывести указанный вложенный список.\n",
    "\n",
    "Примечание. Не забудьте вызвать функцию chunked(), чтобы вывести результат 😀."
   ]
  },
  {
   "cell_type": "code",
   "execution_count": 3,
   "metadata": {},
   "outputs": [
    {
     "name": "stdout",
     "output_type": "stream",
     "text": [
      "[['a', 'b'], ['c', 'd'], ['e', 'f']]\n"
     ]
    }
   ],
   "source": [
    "def chunked(lst: list, n: int):\n",
    "    return [lst[i:i + n] for i in range(0, len(lst), n)]\n",
    "\n",
    "x=input().split()\n",
    "y=int(input())\n",
    "print(chunked(x,y))"
   ]
  },
  {
   "attachments": {},
   "cell_type": "markdown",
   "metadata": {},
   "source": [
    "Подсписки списка 🌶️🌶️\n",
    "\n",
    "Подсписок — часть другого списка. Подсписок может содержать один элемент, несколько, и даже ни одного. Например, [1], [2], [3] и [4] — подсписки списка [1, 2, 3, 4]. Список [2, 3] — подсписок списка [1, 2, 3, 4], но список [2, 4] не подсписок списка [1, 2, 3, 4], так как элементы \n",
    "2 и 4 во втором списке не смежные. Пустой список — подсписок любого списка. Сам список — подсписок самого себя, то есть список [1, 2, 3, 4] подсписок списка [1, 2, 3, 4].\n",
    "\n",
    "На вход программе подается строка текста, содержащая символы. Из данной строки формируется список. Напишите программу, которая выводит список, содержащий все возможные подсписки списка, включая пустой список.\n",
    "\n",
    "Формат входных данных:</br>\n",
    "На вход программе подается строка текста, содержащая символы, отделенные символом пробела.\n",
    "\n",
    "Формат выходных данных:</br>\n",
    "Программа должна вывести указанный список, содержащий все возможные подсписки, включая пустой список в соответствии с примерами.\n",
    "\n",
    "Примечание. Порядок списков одинаковой длины должен соответствовать порядку их вхождения в основной список."
   ]
  },
  {
   "cell_type": "code",
   "execution_count": 9,
   "metadata": {},
   "outputs": [
    {
     "name": "stdout",
     "output_type": "stream",
     "text": [
      "[[], ['a'], ['b'], ['a', 'b']]\n"
     ]
    }
   ],
   "source": [
    "def sublist(lst:list):\n",
    "    s_l=[[]]\n",
    "    for i in range(len(lst)):\n",
    "        for j in range(len(lst)-i):\n",
    "            s_l.append(lst[j:j+i+1])\n",
    "    return s_l\n",
    "\n",
    "\n",
    "x=input().split()\n",
    "print(sublist(x))"
   ]
  },
  {
   "attachments": {},
   "cell_type": "markdown",
   "metadata": {},
   "source": [
    "4.4 Матрицы. Часть 1"
   ]
  },
  {
   "attachments": {},
   "cell_type": "markdown",
   "metadata": {},
   "source": [
    "Что покажет приведенный ниже фрагмент кода?"
   ]
  },
  {
   "cell_type": "code",
   "execution_count": 10,
   "metadata": {},
   "outputs": [
    {
     "name": "stdout",
     "output_type": "stream",
     "text": [
      "9 8 7 \n",
      "6 5 4 \n",
      "3 2 1 \n"
     ]
    }
   ],
   "source": [
    "n = 3\n",
    "a = [[1, 2, 3],\n",
    "     [4, 5, 6],\n",
    "     [7, 8, 9]]\n",
    "\n",
    "for i in range(n):\n",
    "    for j in range(n):\n",
    "        print(a[n - i - 1][n - j - 1], end=' ')\n",
    "    print()"
   ]
  },
  {
   "attachments": {},
   "cell_type": "markdown",
   "metadata": {},
   "source": [
    "Что покажет приведенный ниже фрагмент кода?"
   ]
  },
  {
   "cell_type": "code",
   "execution_count": 11,
   "metadata": {},
   "outputs": [
    {
     "name": "stdout",
     "output_type": "stream",
     "text": [
      "101\n"
     ]
    }
   ],
   "source": [
    "n = 5\n",
    "a = [[19, 21, 33, 78, 99], \n",
    "     [41, 53, 66, 98, 76], \n",
    "     [79, 80, 90, 60, 20],\n",
    "     [33, 11, 45, 67, 90],\n",
    "     [45, 67, 12, 98, 23]]\n",
    "\n",
    "maximum = -1\n",
    "minimum = 100\n",
    "\n",
    "for i in range(n):\n",
    "    if a[i][i] > maximum:\n",
    "        maximum = a[i][i]\n",
    "    if a[i][n - i - 1] < minimum:\n",
    "        minimum = a[i][n - i - 1]\n",
    "print(minimum + maximum)"
   ]
  },
  {
   "attachments": {},
   "cell_type": "markdown",
   "metadata": {},
   "source": [
    "Вывести матрицу 1\n",
    "\n",
    "На вход программе подаются два натуральных числа n и m, каждое на отдельной строке — количество строк и столбцов в матрице. Далее вводятся сами элементы матрицы — слова, каждое на отдельной строке; подряд идут элементы сначала первой строки, затем второй, и т.д.\n",
    "\n",
    "Напишите программу, которая сначала считывает элементы матрицы один за другим, затем выводит их в виде матрицы.\n",
    "\n",
    "Формат входных данных:</br>\n",
    "На вход программе подаются два числа n и m — количество строк и столбцов в матрице, далее идут n×m слов, каждое на отдельной строке.\n",
    "\n",
    "Формат выходных данных:</br>\n",
    "Программа должна вывести считанную матрицу, разделяя ее элементы одним пробелом."
   ]
  },
  {
   "cell_type": "code",
   "execution_count": 48,
   "metadata": {},
   "outputs": [
    {
     "name": "stdout",
     "output_type": "stream",
     "text": [
      "как дела \n",
      "все норм \n"
     ]
    }
   ],
   "source": [
    "rows, cols = int(input()), int(input()) \n",
    "words=[[input() for word in range(cols)] for i in range(rows)]\n",
    "for i in range(rows):\n",
    "    for j in range(cols):\n",
    "        print(words[i][j], end=' ')\n",
    "    print()\n"
   ]
  },
  {
   "attachments": {},
   "cell_type": "markdown",
   "metadata": {},
   "source": [
    "Вывести матрицу 2\n",
    "\n",
    "На вход программе подаются два натуральных числа n и m, каждое на отдельной строке — количество строк и столбцов в матрице. Далее вводятся сами элементы матрицы — слова, каждое на отдельной строке; подряд идут элементы сначала первой строки, затем второй, и т.д.\n",
    "\n",
    "Напишите программу, которая считывает элементы матрицы один за другим, выводит их в виде матрицы, выводит пустую строку, и снова ту же матрицу, но уже поменяв местами строки со столбцами: первая строка выводится как первый столбец, и так далее.\n",
    "\n",
    "Формат входных данных:</br>\n",
    "На вход программе подаются два числа n и m — количество строк и столбцов в матрице, далее идут n×m слов, каждое на отдельной строке.\n",
    "\n",
    "Формат выходных данных:</br>\n",
    "Программа должна вывести считанную матрицу, за ней пустую строку, и ту же матрицу, но поменяв местами строки со столбцами. Элементы матрицы разделять одним пробелом."
   ]
  },
  {
   "cell_type": "code",
   "execution_count": 25,
   "metadata": {},
   "outputs": [
    {
     "name": "stdout",
     "output_type": "stream",
     "text": [
      "не в бровь \n",
      "а в глаз \n",
      "\n",
      "не а \n",
      "в в \n",
      "бровь глаз \n"
     ]
    }
   ],
   "source": [
    "rows, cols = int(input()), int(input()) \n",
    "words=[[input() for word in range(cols)] for i in range(rows)]\n",
    "for i in range(rows):\n",
    "    for j in range(cols):\n",
    "        print(words[i][j], end=' ')\n",
    "    print()\n",
    "print()\n",
    "for i in range(cols):\n",
    "    for j in range(rows):\n",
    "        print(words[j][i], end=' ')\n",
    "    print()"
   ]
  },
  {
   "attachments": {},
   "cell_type": "markdown",
   "metadata": {},
   "source": [
    "След матрицы\n",
    "\n",
    "Следом квадратной матрицы называется сумма элементов главной диагонали. Напишите программу, которая выводит след заданной квадратной матрицы.\n",
    "\n",
    "Формат входных данных:</br>\n",
    "На вход программе подаётся натуральное число n — количество строк и столбцов в матрице, затем элементы матрицы (целые числа) построчно через пробел.\n",
    "\n",
    "Формат выходных данных:</br>\n",
    "Программа должна вывести одно число — след заданной матрицы."
   ]
  },
  {
   "cell_type": "code",
   "execution_count": 69,
   "metadata": {},
   "outputs": [
    {
     "name": "stdout",
     "output_type": "stream",
     "text": [
      "0\n"
     ]
    }
   ],
   "source": [
    "x=int(input())\n",
    "nums=[list(map(int, input().split())) for i in range(x)] #list необходим для формирования именно списко через ф-цию map, а не объекта\n",
    "sums=0\n",
    "for i in range(x):\n",
    "    for j in range(x):\n",
    "        if i==j:\n",
    "            sums+=nums[i][j] \n",
    "print(sum)"
   ]
  },
  {
   "attachments": {},
   "cell_type": "markdown",
   "metadata": {},
   "source": [
    "Больше среднего\n",
    "\n",
    "Напишите программу, которая выводит количество элементов квадратной матрицы в каждой строке, больших среднего арифметического элементов данной строки.\n",
    "\n",
    "Формат входных данных:</br>\n",
    "На вход программе подаётся натуральное число n — количество строк и столбцов в матрице, затем элементы матрицы (целые числа) построчно через пробел.\n",
    "\n",
    "Формат выходных данных:</br>\n",
    "Программа должна вывести n чисел — для каждой строки количество элементов матрицы, больших среднего арифметического элементов данной строки."
   ]
  },
  {
   "cell_type": "code",
   "execution_count": 8,
   "metadata": {},
   "outputs": [
    {
     "name": "stdout",
     "output_type": "stream",
     "text": [
      "1\n",
      "1\n"
     ]
    }
   ],
   "source": [
    "x=int(input())\n",
    "nums=[list(map(int, input().split())) for i in range(x)]\n",
    "count=0\n",
    "for i in range(x):\n",
    "    for j in range(x):\n",
    "        if nums[i][j]>sum(nums[i])/x:\n",
    "                count+=1\n",
    "    print(count)\n",
    "    count=0"
   ]
  },
  {
   "attachments": {},
   "cell_type": "markdown",
   "metadata": {},
   "source": [
    "Максимальный в области 1\n",
    "\n",
    "Напишите программу, которая выводит максимальный элемент в заштрихованной области квадратной матрицы.\n",
    "\n",
    "Формат входных данных:</br>\n",
    "На вход программе подаётся натуральное число n — количество строк и столбцов в матрице, затем элементы матрицы (целые числа) построчно через пробел.\n",
    "\n",
    "Формат выходных данных:</br>\n",
    "Программа должна вывести одно число — максимальный элемент в заштрихованной области квадратной матрицы.\n",
    "\n",
    "Примечание. Элементы главной диагонали также учитываются."
   ]
  },
  {
   "cell_type": "code",
   "execution_count": 10,
   "metadata": {},
   "outputs": [
    {
     "name": "stdout",
     "output_type": "stream",
     "text": [
      "5\n",
      "6\n",
      "99\n",
      "5\n"
     ]
    }
   ],
   "source": [
    "x=int(input())\n",
    "nums=[list(map(int, input().split())) for i in range(x)]\n",
    "total=[]\n",
    "for i in range(x):\n",
    "    for j in range(x):\n",
    "        if i>=j:\n",
    "            total.append(nums[i][j])\n",
    "print(max(total))\n"
   ]
  },
  {
   "attachments": {},
   "cell_type": "markdown",
   "metadata": {},
   "source": [
    "Максимальный в области 2 🌶️\n",
    "\n",
    "Напишите программу, которая выводит максимальный элемент в заштрихованной области квадратной матрицы.\n",
    "\n",
    "Формат входных данных:</br>\n",
    "На вход программе подаётся натуральное число n — количество строк и столбцов в матрице, затем элементы матрицы (целые числа) построчно через пробел.\n",
    "\n",
    "Формат выходных данных:</br>\n",
    "Программа должна вывести одно число — максимальный элемент в заштрихованной области квадратной матрицы.\n",
    "\n",
    "Примечание. Элементы диагоналей также учитываются."
   ]
  },
  {
   "cell_type": "code",
   "execution_count": 15,
   "metadata": {},
   "outputs": [
    {
     "name": "stdout",
     "output_type": "stream",
     "text": [
      "7\n"
     ]
    }
   ],
   "source": [
    "x=int(input())\n",
    "nums=[list(map(int, input().split())) for i in range(x)]\n",
    "total=[]\n",
    "for i in range(x):\n",
    "    for j in range(x):\n",
    "        if i >= j and i <= x-1-j or i <= j and i >= x-1-j: \n",
    "            total.append(nums[i][j])\n",
    "print(max(total))\n"
   ]
  },
  {
   "attachments": {},
   "cell_type": "markdown",
   "metadata": {},
   "source": [
    "Суммы четвертей\n",
    "\n",
    "Квадратная матрица разбивается на четыре четверти, ограниченные главной и побочной диагоналями: верхнюю, нижнюю, левую и правую.\n",
    "\n",
    "Напишите программу, которая вычисляет сумму элементов: верхней четверти; правой четверти; нижней четверти; левой четверти.\n",
    "\n",
    "Формат входных данных:</br>\n",
    "На вход программе подаётся натуральное число n — количество строк и столбцов в матрице, затем элементы матрицы (целые числа) построчно через пробел.\n",
    "\n",
    "Формат выходных данных:</br>\n",
    "Программа должна вывести текст в соответствии с условием задачи.\n",
    "\n",
    "Примечание. Элементы диагоналей не учитываются."
   ]
  },
  {
   "cell_type": "code",
   "execution_count": 6,
   "metadata": {},
   "outputs": [
    {
     "name": "stdout",
     "output_type": "stream",
     "text": [
      "Верхняя четверть: 13\n",
      "Правая четверть: 1\n",
      "Нижняя четверть: 4\n",
      "Левая четверть: 65\n"
     ]
    }
   ],
   "source": [
    "x=int(input())\n",
    "nums=[list(map(int, input().split())) for i in range(x)]\n",
    "\n",
    "first=sum([nums[i][j] for i in range(x) for j in range(x) if x - 1 - j > i < j])\n",
    "second=sum([nums[i][j] for i in range(x) for j in range(x) if x - 1 - j < i < j])\n",
    "third=sum([nums[i][j] for i in range(x) for j in range(x) if x - 1 - j < i > j])\n",
    "fourth=sum([nums[i][j] for i in range(x) for j in range(x) if x - 1 - j > i > j])\n",
    "\n",
    "print(f'Верхняя четверть: {first}\\nПравая четверть: {second}\\nНижняя четверть: {third}\\nЛевая четверть: {fourth}')"
   ]
  },
  {
   "attachments": {},
   "cell_type": "markdown",
   "metadata": {},
   "source": [
    "4.5 Матрицы. Часть 2"
   ]
  },
  {
   "attachments": {},
   "cell_type": "markdown",
   "metadata": {},
   "source": [
    "Таблица умножения\n",
    "\n",
    "На вход программе подаются два натуральных числа n и m — количество строк и столбцов в матрице. Создайте матрицу mult размером n×m и заполните её таблицей умножения по формуле mult[i][j] = i * j.\n",
    "\n",
    "Формат входных данных:</br>\n",
    "На вход программе на разных строках подаются два числа n и m — количество строк и столбцов в матрице.\n",
    "\n",
    "Формат выходных данных:</br>\n",
    "Программа должна вывести таблицу умножения отводя на вывод каждого числа ровно 3 символа (для этого используйте строковый метод ljust())."
   ]
  },
  {
   "cell_type": "code",
   "execution_count": 11,
   "metadata": {},
   "outputs": [
    {
     "name": "stdout",
     "output_type": "stream",
     "text": [
      "0  0  0  0  0  0  \n",
      "0  1  2  3  4  5  \n",
      "0  2  4  6  8  10 \n",
      "0  3  6  9  12 15 \n"
     ]
    }
   ],
   "source": [
    "x, y=int(input()), int(input())\n",
    "matrix=[[i*j for i in range(y)] for j in range(x)]\n",
    "for r in range(x):\n",
    "    for c in range(y):\n",
    "        print(str(matrix[r][c]).ljust(3), end='')\n",
    "    print()"
   ]
  },
  {
   "attachments": {},
   "cell_type": "markdown",
   "metadata": {},
   "source": [
    "Максимум в таблице\n",
    "\n",
    "На вход программе подаются два натуральных числа n и m — количество строк и столбцов в матрице, затем n строк по m целых чисел в каждой, отделенных символом пробела.\n",
    "\n",
    "Напишите программу, которая находит индексы (строку и столбец) первого вхождения максимального элемента.\n",
    "\n",
    "Формат входных данных:</br>\n",
    "На вход программе на разных строках подаются два числа n и m — количество строк и столбцов в матрице, затем сами элементы матрицы построчно через пробел.\n",
    "\n",
    "Формат выходных данных:</br>\n",
    "Программа должна вывести два числа: номер строки и номер столбца, в которых стоит наибольший элемент таблицы. Если таких элементов несколько, то выводится тот, у которого меньше номер строки, а если номера строк равны то тот, у которого меньше номер столбца.\n",
    "\n",
    "Примечание. Считайте, что нумерация строк и столбцов начинается с нуля."
   ]
  },
  {
   "cell_type": "code",
   "execution_count": 41,
   "metadata": {},
   "outputs": [
    {
     "name": "stdout",
     "output_type": "stream",
     "text": [
      "1 1\n"
     ]
    }
   ],
   "source": [
    "x, y =int(input()), int(input())\n",
    "matrix=[list(map(int, input().split())) for i in range(x)]\n",
    "maximum=matrix[0][0]\n",
    "a,b=0,0\n",
    "for i in range(x):\n",
    "    for j in range(y):\n",
    "        if matrix[i][j]>maximum:\n",
    "            maximum=matrix[i][j]\n",
    "            a=i\n",
    "            b=j\n",
    "print(a, b)"
   ]
  },
  {
   "attachments": {},
   "cell_type": "markdown",
   "metadata": {},
   "source": [
    "Обмен столбцов\n",
    "\n",
    "Напишите программу, которая меняет местами столбцы в матрице.\n",
    "\n",
    "Формат входных данных:</br>\n",
    "На вход программе на разных строках подаются два натуральных числа n и m — количество строк и столбцов в матрице, затем элементы матрицы построчно через пробел, затем числа i и j — номера столбцов, подлежащих обмену.\n",
    "\n",
    "Формат выходных данных:</br>\n",
    "Программа должна вывести указанную таблицу с замененными столбцами."
   ]
  },
  {
   "cell_type": "code",
   "execution_count": 16,
   "metadata": {},
   "outputs": [
    {
     "name": "stdout",
     "output_type": "stream",
     "text": [
      "2 1 3\n",
      "2 1 3\n",
      "2 1 3\n"
     ]
    }
   ],
   "source": [
    "row, col=int(input()), int(input())\n",
    "matrix=[list(map(int, input().split())) for i in range(row)]\n",
    "\n",
    "change=[int(i) for i in input().split()]\n",
    "\n",
    "for i in range(row):\n",
    "    for j in range(col):\n",
    "        matrix[i][change[0]], matrix[i][change[1]]=matrix[i][change[1]], matrix[i][change[0]]\n",
    "        if j==0:\n",
    "            print(*matrix[i], end='\\n' )"
   ]
  },
  {
   "attachments": {},
   "cell_type": "markdown",
   "metadata": {},
   "source": [
    "Симметричная матрица\n",
    "\n",
    "Напишите программу, которая проверяет симметричность квадратной матрицы относительно главной диагонали.\n",
    "\n",
    "Формат входных данных:</br>\n",
    "На вход программе подаётся натуральное число n — количество строк и столбцов в матрице, затем элементы матрицы построчно через пробел.\n",
    "\n",
    "Формат выходных данных:</br>\n",
    "Программа должна вывести YES, если матрица симметрична относительно главной диагонали, и слово NO в противном случае."
   ]
  },
  {
   "cell_type": "code",
   "execution_count": 45,
   "metadata": {},
   "outputs": [
    {
     "name": "stdout",
     "output_type": "stream",
     "text": [
      "YES\n"
     ]
    }
   ],
   "source": [
    "def compare(lst: list):\n",
    "    zipped_rows=zip(*lst)\n",
    "    lst_t=[list(row) for row in zipped_rows]\n",
    "    if lst==lst_t:\n",
    "        return 'YES'\n",
    "    else:\n",
    "        return 'NO'\n",
    "    \n",
    "matrix=[list(map(int, input().split())) for i in range(int(input()))]\n",
    "\n",
    "print(compare(matrix))\n"
   ]
  },
  {
   "cell_type": "code",
   "execution_count": 41,
   "metadata": {},
   "outputs": [
    {
     "name": "stdout",
     "output_type": "stream",
     "text": [
      "YES\n"
     ]
    }
   ],
   "source": [
    "def compare(lst: list):\n",
    "    import pymatrix\n",
    "    lst=pymatrix.matrix(lst)\n",
    "    lst_t=lst.trans()\n",
    "    if lst==lst_t:\n",
    "        return 'YES'\n",
    "    else:\n",
    "        return 'NO'\n",
    "    \n",
    "matrix=[list(map(int, input().split())) for i in range(int(input()))]\n",
    "\n",
    "print(compare(matrix))"
   ]
  },
  {
   "attachments": {},
   "cell_type": "markdown",
   "metadata": {},
   "source": [
    "Обмен диагоналей\n",
    "\n",
    "Дана квадратная матрица чисел. Напишите программу, которая меняет местами элементы, стоящие на главной и побочной диагонали, при этом каждый элемент должен остаться в том же столбце (то есть в каждом столбце нужно поменять местами элемент на главной диагонали и на побочной диагонали).\n",
    "\n",
    "Формат входных данных:</br>\n",
    "На вход программе подаётся натуральное число n — количество строк и столбцов в матрице, затем элементы матрицы построчно через пробел.\n",
    "\n",
    "Формат выходных данных:</br>\n",
    "Программа должна вывести матрицу с элементами главной и побочной диагонали, поменявшимися своими местами."
   ]
  },
  {
   "cell_type": "code",
   "execution_count": 2,
   "metadata": {},
   "outputs": [
    {
     "name": "stdout",
     "output_type": "stream",
     "text": [
      "7 2 9\n",
      "4 5 6\n",
      "1 8 3\n"
     ]
    }
   ],
   "source": [
    "x=int(input())\n",
    "matrix=[list(map(int, input().split())) for i in range(x)]\n",
    "\n",
    "for j in range(x):\n",
    "    matrix[j][j], matrix[x-1-j][j]=matrix[x-1-j][j], matrix[j][j]\n",
    "\n",
    "for k in range(x):\n",
    "    print(*matrix[k])"
   ]
  },
  {
   "attachments": {},
   "cell_type": "markdown",
   "metadata": {},
   "source": [
    "Зеркальное отображение\n",
    "\n",
    "Дана квадратная матрица чисел. Напишите программу, которая зеркально отображает её элементы относительно горизонтальной оси симметрии.\n",
    "\n",
    "Формат входных данных:</br>\n",
    "На вход программе подаётся натуральное число n — количество строк и столбцов в матрице, затем элементы матрицы построчно через пробел.\n",
    "\n",
    "Формат выходных данных:</br>\n",
    "Программа должна вывести матрицу в которой зеркально отображены элементы относительно горизонтальной оси симметрии."
   ]
  },
  {
   "cell_type": "code",
   "execution_count": 6,
   "metadata": {},
   "outputs": [
    {
     "name": "stdout",
     "output_type": "stream",
     "text": [
      "7 8 9\n",
      "4 5 6\n",
      "1 2 3\n"
     ]
    }
   ],
   "source": [
    "x=int(input())\n",
    "matrix=[list(map(int, input().split())) for i in range(x)]\n",
    "\n",
    "for j in reversed(range(x)):\n",
    "    print(*matrix[j])"
   ]
  },
  {
   "attachments": {},
   "cell_type": "markdown",
   "metadata": {},
   "source": [
    "Поворот матрицы\n",
    "\n",
    "Напишите программу, которая поворачивает квадратную матрицу чисел на 90∘ по часовой стрелке.\n",
    "\n",
    "Формат входных данных:</br>\n",
    "На вход программе подаётся натуральное число n — количество строк и столбцов в матрице, затем элементы матрицы построчно через пробел.\n",
    "\n",
    "Формат выходных данных:</br>\n",
    "Программа должна вывести результат на экран, числа должны быть разделены одним пробелом."
   ]
  },
  {
   "cell_type": "code",
   "execution_count": 21,
   "metadata": {},
   "outputs": [
    {
     "name": "stdout",
     "output_type": "stream",
     "text": [
      "7 4 1\n",
      "8 5 2\n",
      "9 6 3\n"
     ]
    }
   ],
   "source": [
    "x=int(input())\n",
    "matrix=[list(map(int, input().split())) for i in range(x)]\n",
    "\n",
    "matrix=tuple(zip(*matrix[::-1]))\n",
    "\n",
    "for j in range(x):\n",
    "    print(*matrix[j])\n"
   ]
  },
  {
   "attachments": {},
   "cell_type": "markdown",
   "metadata": {},
   "source": [
    "Ходы коня\n",
    "\n",
    "На шахматной доске 8×8 стоит конь. Напишите программу, которая отмечает положение коня на доске и все клетки, которые бьет конь. Клетку, где стоит конь, отметьте английской буквой N, клетки, которые бьет конь, отметьте символами * остальные клетки заполните точками.\n",
    "\n",
    "Формат входных данных:</br>\n",
    "На вход программе подаются координаты коня на шахматной доске в шахматной нотации (то есть в виде e4, где сначала записывается номер столбца (буква от a до h, слева направо), затем номеру строки (цифра от 1 до 8, снизу вверх)).\n",
    "\n",
    "Формат выходных данных:</br>\n",
    "Программа должна вывести на экран изображение доски, разделяя элементы пробелами."
   ]
  },
  {
   "cell_type": "code",
   "execution_count": 3,
   "metadata": {},
   "outputs": [
    {
     "name": "stdout",
     "output_type": "stream",
     "text": [
      ". . . . . . . .\n",
      ". . . . . . . .\n",
      ". . . . . . . .\n",
      ". . . . * . * .\n",
      ". . . * . . . *\n",
      ". . . . . N . .\n",
      ". . . * . . . *\n",
      ". . . . * . * .\n"
     ]
    }
   ],
   "source": [
    "x,y=input()\n",
    "n=8\n",
    "matrix=[['.']*n for _ in range(n)]\n",
    "y=n-int(y)\n",
    "x=ord(x)-97\n",
    "matrix[y][x]='N'\n",
    "\n",
    "for i in range(n):\n",
    "    for j in range(n):\n",
    "        if abs(i-y)*abs(j-x)==2:\n",
    "            matrix[i][j]='*'\n",
    "\n",
    "for k in range(n):\n",
    "    print(*matrix[k])"
   ]
  },
  {
   "attachments": {},
   "cell_type": "markdown",
   "metadata": {},
   "source": [
    "Магический квадрат 🌶️\n",
    "\n",
    "Магическим квадратом порядка n называется квадратная таблица размера n×n, составленная из всех чисел 1,2,3,…,n^2 так, что суммы по каждому столбцу, каждой строке и каждой из двух диагоналей равны между собой. Напишите программу, которая проверяет, является ли заданная квадратная матрица магическим квадратом.\n",
    "\n",
    "Формат входных данных:</br>\n",
    "На вход программе подаётся натуральное число n — количество строк и столбцов в матрице, затем элементы матрицы: n строк, по n чисел в каждой, разделённые пробелами.\n",
    "\n",
    "Формат выходных данных:</br>\n",
    "Программа должна вывести слово YES, если матрица является магическим квадратом, и слово NO в противном случае."
   ]
  },
  {
   "cell_type": "code",
   "execution_count": null,
   "metadata": {},
   "outputs": [],
   "source": [
    "x=int(input())\n",
    "matrix=[list(map(int, input().split())) for i in range(x)]\n",
    "digits=[i for i in range(1, x**2+1)]\n",
    "\n",
    "d1,d2=0,0\n",
    "\n",
    "for j in range(x):\n",
    "    stolb, stroka=0,0\n",
    "    for k in range(x):\n",
    "        stolb+=matrix[k][j]\n",
    "        stroka+=matrix[j][k]\n",
    "        if matrix[j][k] in digits:\n",
    "            digits.remove(matrix[j][k])\n",
    "\n",
    "    d1+=matrix[j][j]\n",
    "    d2+=matrix[j][x-j-1]\n",
    "    if stolb!=stroka:\n",
    "        break\n",
    "\n",
    "if stolb==stroka==d1==d2 and digits==[]:\n",
    "    print('YES')\n",
    "else:\n",
    "    print('NO')"
   ]
  },
  {
   "attachments": {},
   "cell_type": "markdown",
   "metadata": {},
   "source": [
    "4.6 Матрицы. Часть 3"
   ]
  },
  {
   "attachments": {},
   "cell_type": "markdown",
   "metadata": {},
   "source": [
    "Шахматная доска\n",
    "На вход программе подаются два натуральных числа n и m. Напишите программу для создания матрицы размером n×m, заполнив её символами . и * в шахматном порядке. В левом верхнем углу должна стоять точка. Выведите полученную матрицу на экран, разделяя элементы пробелами.\n",
    "\n",
    "Формат входных данных:</br>\n",
    "На вход программе на одной строке подаются два натуральных числа n и m — количество строк и столбцов в матрице.\n",
    "\n",
    "Формат выходных данных:</br>\n",
    "Программа должна вывести матрицу, описанную в условии задачи."
   ]
  },
  {
   "cell_type": "code",
   "execution_count": 18,
   "metadata": {},
   "outputs": [
    {
     "name": "stdout",
     "output_type": "stream",
     "text": [
      ". * . *\n",
      "* . * .\n",
      ". * . *\n"
     ]
    }
   ],
   "source": [
    "row, col=map(int,input().split())\n",
    "matrix=[['0']*col for _ in range(row)]\n",
    "\n",
    "for i in range(row):\n",
    "    for j in range(col):\n",
    "        if (i%2==0 and j%2==0) or (i%2!=0 and j%2!=0):\n",
    "            matrix[i][j]='.'\n",
    "        if (i%2==0 and j%2!=0) or (i%2!=0 and j%2==0):\n",
    "            matrix[i][j]='*' \n",
    "\n",
    "for k in range(row):\n",
    "    print(*matrix[k])"
   ]
  },
  {
   "attachments": {},
   "cell_type": "markdown",
   "metadata": {},
   "source": [
    "Побочная диагональ\n",
    "\n",
    "На вход программе подается натуральное число n. Напишите программу, которая создает матрицу размером n×n и заполняет её по следующему правилу:</br>\n",
    "- числа на побочной диагонали равны 1;</br>\n",
    "- числа, стоящие выше этой диагонали, равны 0;</br>\n",
    "- числа, стоящие ниже этой диагонали, равны 2.</br>\n",
    "\n",
    "Полученную матрицу выведите на экран. Числа в строке разделяйте одним пробелом.\n",
    "\n",
    "Формат входных данных:</br>\n",
    "На вход программе подается натуральное число n — количество строк и столбцов в матрице.\n",
    "\n",
    "Формат выходных данных:</br>\n",
    "Программа должна вывести матрицу в соответствии с условием задачи.\n",
    "\n",
    "Примечание. Побочная диагональ — это диагональ, идущая из правого верхнего в левый нижний угол матрицы."
   ]
  },
  {
   "cell_type": "code",
   "execution_count": 39,
   "metadata": {},
   "outputs": [
    {
     "name": "stdout",
     "output_type": "stream",
     "text": [
      "0 0 0 1\n",
      "0 0 1 2\n",
      "0 1 2 2\n",
      "1 2 2 2\n"
     ]
    }
   ],
   "source": [
    "x=int(input())\n",
    "matrix=[['0']*x for _ in range(x)]\n",
    "\n",
    "for i in range(x):\n",
    "    for j in range(x):\n",
    "        if i>x-1-j:\n",
    "            matrix[i][j]=2     \n",
    "        if i==x-1-j:\n",
    "            matrix[i][j]=1\n",
    "\n",
    "for p in range(x):\n",
    "    print(*matrix[p])"
   ]
  },
  {
   "attachments": {},
   "cell_type": "markdown",
   "metadata": {},
   "source": [
    "Заполнение 1\n",
    "\n",
    "На вход программе подаются два натуральных числа n и m. Напишите программу, которая создает матрицу размером n×m и заполняет её числами от 1 до n⋅m в соответствии с образцом.\n",
    "\n",
    "Формат входных данных:</br>\n",
    "На вход программе на одной строке подаются два натуральных числа n и m — количество строк и столбцов в матрице.\n",
    "\n",
    "Формат выходных данных:</br>\n",
    "Программа должна вывести матрицу в соответствии с образцом.\n",
    "\n",
    "Примечание. Для вывода элементов матрицы как в примерах, отводите ровно 3 символа на каждый элемент. Для этого используйте строковый метод ljust(). Можно обойтись и без ljust(), система примет и такое решение 😇"
   ]
  },
  {
   "cell_type": "code",
   "execution_count": 5,
   "metadata": {},
   "outputs": [
    {
     "name": "stdout",
     "output_type": "stream",
     "text": [
      "1  2  3  4  \n",
      "5  6  7  8  \n",
      "9  10 11 12 \n"
     ]
    }
   ],
   "source": [
    "row, col=map(int,input().split())\n",
    "matrix=[[i+j for i in range(col)]  for j in range(row)]\n",
    "\n",
    "count=1\n",
    "for k in range(row):\n",
    "    for l in range(col):\n",
    "        matrix[k][l]=count\n",
    "        count+=1\n",
    "\n",
    "for m in range(row):\n",
    "    for n in range(col):       \n",
    "        print(str(matrix[m][n]).ljust(3), end='')\n",
    "    print()"
   ]
  },
  {
   "attachments": {},
   "cell_type": "markdown",
   "metadata": {},
   "source": [
    "Заполнение 2\n",
    "\n",
    "На вход программе подаются два натуральных числа n и m. Напишите программу, которая создает матрицу размером n×m заполнив её в соответствии с образцом.\n",
    "\n",
    "Формат входных данных:</br>\n",
    "На вход программе на одной строке подаются два натуральных числа n и m — количество строк и столбцов в матрице.\n",
    "\n",
    "Формат выходных данных:</br>\n",
    "Программа должна вывести указанную матрицу в соответствии с образцом.\n",
    "\n",
    "Примечание. Для вывода элементов матрицы как в примерах, отводите ровно 3 символа на каждый элемент. Для этого используйте строковый метод ljust(). Можно обойтись и без ljust(), система примет и такое решение 😇"
   ]
  },
  {
   "cell_type": "code",
   "execution_count": 40,
   "metadata": {},
   "outputs": [
    {
     "name": "stdout",
     "output_type": "stream",
     "text": [
      "1  4  7  10 \n",
      "2  5  8  11 \n",
      "3  6  9  12 \n"
     ]
    }
   ],
   "source": [
    "row, col=map(int,input().split())\n",
    "matrix=[[i+j for i in range(col)]  for j in range(row)]\n",
    "\n",
    "count=1\n",
    "for k in range(col):\n",
    "    for l in range(row):\n",
    "        matrix[l][k]=count\n",
    "        count+=1\n",
    "\n",
    "for m in range(row):\n",
    "    for n in range(col):       \n",
    "        print(str(matrix[m][n]).ljust(3), end='')\n",
    "    print()"
   ]
  },
  {
   "attachments": {},
   "cell_type": "markdown",
   "metadata": {},
   "source": [
    "Заполнение 3\n",
    "На вход программе подается натуральное число n. Напишите программу, которая создает матрицу размером n×n заполнив её в соответствии с образцом.\n",
    "\n",
    "Формат входных данных:</br>\n",
    "На вход программе подается натуральное число n — количество строк и столбцов в матрице.\n",
    "\n",
    "Формат выходных данных:</br>\n",
    "Программа должна вывести указанную матрицу в соответствии с образцом: разместить единицы на главной и побочной диагоналях, остальные позиции матрицы заполнить нулями.\n",
    "\n",
    "Примечание. Для вывода элементов матрицы как в примерах, отводите ровно 3 символа на каждый элемент. Для этого используйте строковый метод ljust(). Можно обойтись и без ljust(), система примет и такое решение 😇"
   ]
  },
  {
   "cell_type": "code",
   "execution_count": 69,
   "metadata": {},
   "outputs": [
    {
     "name": "stdout",
     "output_type": "stream",
     "text": [
      "1 0 0 0 1\n",
      "0 1 0 1 0\n",
      "0 0 1 0 0\n",
      "0 1 0 1 0\n",
      "1 0 0 0 1\n"
     ]
    }
   ],
   "source": [
    "x=int(input())\n",
    "matrix=[[0]*x for _ in range(x)]\n",
    "\n",
    "for k in range(x):\n",
    "    for l in range(x):\n",
    "        if k==l or k==x-1-l:\n",
    "            matrix[k][l]=1\n",
    "        \n",
    "\n",
    "for p in range(x):\n",
    "    print(*matrix[p])"
   ]
  },
  {
   "attachments": {},
   "cell_type": "markdown",
   "metadata": {},
   "source": [
    "Заполнение 4\n",
    "\n",
    "На вход программе подается натуральное число n. Напишите программу, которая создает матрицу размером n×n заполнив её в соответствии с образцом.\n",
    "\n",
    "Формат входных данных:</br>\n",
    "На вход программе подается натуральное число n — количество строк и столбцов в матрице.\n",
    "\n",
    "Формат выходных данных:</br>\n",
    "Программа должна вывести указанную матрицу в соответствии с образцом.\n",
    "\n",
    "Примечание. Для вывода элементов матрицы как в примерах, отводите ровно 3 символа на каждый элемент. Для этого используйте строковый метод ljust(). Можно обойтись и без ljust(), система примет и такое решение 😇"
   ]
  },
  {
   "cell_type": "code",
   "execution_count": 72,
   "metadata": {},
   "outputs": [
    {
     "name": "stdout",
     "output_type": "stream",
     "text": [
      "1 1 1 1 1\n",
      "0 1 1 1 0\n",
      "0 0 1 0 0\n",
      "0 1 1 1 0\n",
      "1 1 1 1 1\n"
     ]
    }
   ],
   "source": [
    "x=int(input())\n",
    "matrix=[[1]*x for _ in range(x)]\n",
    "\n",
    "for k in range(x):\n",
    "    for l in range(x):\n",
    "        if k>l and k<x-1-l or k<l and k>x-1-l:\n",
    "            matrix[k][l]=0\n",
    "        \n",
    "for p in range(x):\n",
    "    print(*matrix[p])"
   ]
  },
  {
   "attachments": {},
   "cell_type": "markdown",
   "metadata": {},
   "source": [
    "Заполнение 5 🌶️\n",
    "\n",
    "На вход программе подаются два натуральных числа n и m. Напишите программу, которая создает матрицу размером n×m заполнив её в соответствии с образцом.\n",
    "\n",
    "Формат входных данных:</br>\n",
    "На вход программе на одной строке подаются два натуральных числа n и m — количество строк и столбцов в матрице.\n",
    "\n",
    "Формат выходных данных:</br>\n",
    "Программа должна вывести указанную матрицу в соответствии с образцом.\n",
    "\n",
    "Примечание. Для вывода элементов матрицы как в примерах, отводите ровно 3 символа на каждый элемент. Для этого используйте строковый метод ljust(). Можно обойтись и без ljust(), система примет и такое решение 😇"
   ]
  },
  {
   "cell_type": "code",
   "execution_count": 14,
   "metadata": {},
   "outputs": [
    {
     "name": "stdout",
     "output_type": "stream",
     "text": [
      "1  2  3  4  5  \n",
      "2  3  4  5  1  \n",
      "3  4  5  1  2  \n",
      "4  5  1  2  3  \n",
      "5  1  2  3  4  \n"
     ]
    }
   ],
   "source": [
    "row, col=map(int,input().split())\n",
    "tmp=[i for i in range(1,col+1)]\n",
    "matrix=[]\n",
    "\n",
    "for j in range(row):\n",
    "    matrix.append(tmp)\n",
    "    tmp=tmp[1:]+[tmp[0]]\n",
    "\n",
    "\n",
    "for m in range(row):\n",
    "    for n in range(col):       \n",
    "        print(str(matrix[m][n]).ljust(3), end='')\n",
    "    print()\n",
    "\n"
   ]
  },
  {
   "attachments": {},
   "cell_type": "markdown",
   "metadata": {},
   "source": [
    "Заполнение змейкой\n",
    "\n",
    "На вход программе подаются два натуральных числа n и m. Напишите программу, которая создает матрицу размером n×m заполнив её \"змейкой\" в соответствии с образцом.\n",
    "\n",
    "Формат входных данных:</br>\n",
    "На вход программе на одной строке подаются два натуральных числа n и m — количество строк и столбцов в матрице.\n",
    "\n",
    "Формат выходных данных:</br>\n",
    "Программа должна вывести указанную матрицу в соответствии с образцом.\n",
    "\n",
    "Примечание. Для вывода элементов матрицы как в примерах, отводите ровно 3 символа на каждый элемент. Для этого используйте строковый метод ljust(). Можно обойтись и без ljust(), система примет и такое решение 😇"
   ]
  },
  {
   "cell_type": "code",
   "execution_count": 4,
   "metadata": {},
   "outputs": [
    {
     "name": "stdout",
     "output_type": "stream",
     "text": [
      "1  2  3  4  5  \n",
      "10 9  8  7  6  \n",
      "11 12 13 14 15 \n"
     ]
    }
   ],
   "source": [
    "row, col=map(int,input().split())\n",
    "matrix=[[i+j for i in range(col)]  for j in range(row)]\n",
    "\n",
    "count=1\n",
    "for k in range(row):\n",
    "    if k%2==0:\n",
    "        for l in range(col):\n",
    "            matrix[k][l]=count\n",
    "            count+=1\n",
    "    else:\n",
    "        for l in reversed(range(col)):\n",
    "            matrix[k][l]=count\n",
    "            count+=1\n",
    "        \n",
    "for m in range(row):\n",
    "    for n in range(col):       \n",
    "        print(str(matrix[m][n]).ljust(3), end='')\n",
    "    print()"
   ]
  },
  {
   "attachments": {},
   "cell_type": "markdown",
   "metadata": {},
   "source": [
    "Заполнение диагоналями 🌶️\n",
    "\n",
    "На вход программе подаются два натуральных числа n и m. Напишите программу, которая создает матрицу размером n×m заполнив её \"диагоналями\" в соответствии с образцом.\n",
    "\n",
    "Формат входных данных:</br>\n",
    "На вход программе на одной строке подаются два натуральных числа n и m — количество строк и столбцов в матрице.\n",
    "\n",
    "Формат выходных данных:</br>\n",
    "Программа должна вывести указанную матрицу в соответствии с образцом.\n",
    "\n",
    "Примечание. Для вывода элементов матрицы как в примерах, отводите ровно 3 символа на каждый элемент. Для этого используйте строковый метод ljust(). Можно обойтись и без ljust(), система примет и такое решение 😇"
   ]
  },
  {
   "cell_type": "code",
   "execution_count": 22,
   "metadata": {},
   "outputs": [
    {
     "name": "stdout",
     "output_type": "stream",
     "text": [
      "1  2  4  7  10 \n",
      "3  5  8  11 13 \n",
      "6  9  12 14 15 \n"
     ]
    }
   ],
   "source": [
    "row, col=map(int,input().split())\n",
    "matrix=[[i+j for i in range(col)]  for j in range(row)]\n",
    "\n",
    "count=1\n",
    "for k in range(row*col):\n",
    "    for l in range(row):\n",
    "        for m in range(col):\n",
    "            if l+m==k:\n",
    "                matrix[l][m]=count\n",
    "                count+=1\n",
    "        \n",
    "for m in range(row):\n",
    "    for n in range(col):       \n",
    "        print(str(matrix[m][n]).ljust(3), end='')\n",
    "    print()"
   ]
  },
  {
   "attachments": {},
   "cell_type": "markdown",
   "metadata": {},
   "source": [
    "Заполнение спиралью 😈😈\n",
    "\n",
    "На вход программе подаются два натуральных числа n и m. Напишите программу, которая создает матрицу размером n×m заполнив её \"спиралью\" в соответствии с образцом.\n",
    "\n",
    "Формат входных данных:</br>\n",
    "На вход программе на одной строке подаются два натуральных числа n и m — количество строк и столбцов в матрице.\n",
    "\n",
    "Формат выходных данных:</br>\n",
    "Программа должна вывести матрицу в соответствии образцом.\n",
    "\n",
    "Примечание. Для вывода элементов матрицы как в примерах, отводите ровно 3 символа на каждый элемент. Для этого используйте строковый метод ljust(). Можно обойтись и без ljust(), система примет и такое решение 😇"
   ]
  },
  {
   "cell_type": "code",
   "execution_count": 3,
   "metadata": {},
   "outputs": [
    {
     "name": "stdout",
     "output_type": "stream",
     "text": [
      "1  2  3  4  5  \n",
      "14 15 16 17 6  \n",
      "13 20 19 18 7  \n",
      "12 11 10 9  8  \n"
     ]
    }
   ],
   "source": [
    "row, col=map(int,input().split())\n",
    "matrix=[]\n",
    "for _ in range(row):\n",
    "    tmp=[0 for e in range(col)]\n",
    "    matrix.append(tmp)\n",
    "\n",
    "x,y=0,0\n",
    "d_x,d_y=0,1\n",
    "matrix[0][0]=1\n",
    "count=2\n",
    "\n",
    "while count<=row*col:\n",
    "    if 0<=x+d_x<=row-1 and 0<=y+d_y<=col-1 and matrix[x+d_x][y+d_y]==0:\n",
    "        matrix[x+d_x][y+d_y]=count\n",
    "        count+=1\n",
    "        x+=d_x\n",
    "        y+=d_y\n",
    "    else:\n",
    "        if d_y==1:\n",
    "            d_y=0\n",
    "            d_x=1\n",
    "        elif d_x==1:\n",
    "            d_x=0\n",
    "            d_y=-1\n",
    "        elif d_y==-1:\n",
    "            d_y=0\n",
    "            d_x=-1\n",
    "        elif d_x==-1:\n",
    "            d_x=0\n",
    "            d_y=1\n",
    "\n",
    "for m in range(row):\n",
    "    for n in range(col):       \n",
    "        print(str(matrix[m][n]).ljust(3), end='')\n",
    "    print()"
   ]
  },
  {
   "attachments": {},
   "cell_type": "markdown",
   "metadata": {},
   "source": [
    "4.7 Операции над матрицами в математике"
   ]
  },
  {
   "attachments": {},
   "cell_type": "markdown",
   "metadata": {},
   "source": [
    "Найти сумму матриц А и Б."
   ]
  },
  {
   "cell_type": "code",
   "execution_count": 4,
   "metadata": {},
   "outputs": [
    {
     "name": "stdout",
     "output_type": "stream",
     "text": [
      "[[ 2  3  4]\n",
      " [ 6  7  8]\n",
      " [10 11 12]]\n"
     ]
    }
   ],
   "source": [
    "import numpy as np\n",
    "a=np.array([[1,1,1], [2,2,2], [3,3,3]])\n",
    "b=np.array([[1,2,3], [4,5,6],[7,8,9]])\n",
    "print(a+b)"
   ]
  },
  {
   "attachments": {},
   "cell_type": "markdown",
   "metadata": {},
   "source": [
    "Найти произведение матрицы B и k.\n"
   ]
  },
  {
   "cell_type": "code",
   "execution_count": 5,
   "metadata": {},
   "outputs": [
    {
     "name": "stdout",
     "output_type": "stream",
     "text": [
      "[[ 3  6  9]\n",
      " [12 15 18]\n",
      " [21 24 27]]\n"
     ]
    }
   ],
   "source": [
    "import numpy as np\n",
    "b=np.array([[1,2,3], [4,5,6], [7,8,9]])\n",
    "k=3\n",
    "print(b*k)"
   ]
  },
  {
   "attachments": {},
   "cell_type": "markdown",
   "metadata": {},
   "source": [
    "Найти произведение матриц A и B."
   ]
  },
  {
   "cell_type": "code",
   "execution_count": 14,
   "metadata": {},
   "outputs": [
    {
     "name": "stdout",
     "output_type": "stream",
     "text": [
      "[[12 15 18]\n",
      " [24 30 36]\n",
      " [36 45 54]]\n"
     ]
    }
   ],
   "source": [
    "import numpy as np\n",
    "a=np.array([[1,1,1], [2,2,2], [3,3,3]])\n",
    "b=np.array([[1,2,3], [4,5,6], [7,8,9]])\n",
    "print(np.dot(a,b))"
   ]
  },
  {
   "attachments": {},
   "cell_type": "markdown",
   "metadata": {},
   "source": [
    "Найти произведение матриц A и B."
   ]
  },
  {
   "cell_type": "code",
   "execution_count": 15,
   "metadata": {},
   "outputs": [
    {
     "name": "stdout",
     "output_type": "stream",
     "text": [
      "[[-2 -2]\n",
      " [ 1  2]]\n"
     ]
    }
   ],
   "source": [
    "import numpy as np\n",
    "a=np.array([[1,-1,0], [3,-4,2]])\n",
    "b=np.array([[1,2], [3,4], [5,6]])\n",
    "print(np.dot(a,b))"
   ]
  },
  {
   "attachments": {},
   "cell_type": "markdown",
   "metadata": {},
   "source": [
    "Для матрицы А= [[1, 0], [4, 1]] найти А^25."
   ]
  },
  {
   "cell_type": "code",
   "execution_count": 17,
   "metadata": {},
   "outputs": [
    {
     "name": "stdout",
     "output_type": "stream",
     "text": [
      "[[  1   0]\n",
      " [100   1]]\n"
     ]
    }
   ],
   "source": [
    "import numpy as np\n",
    "a=np.array([[1,0], [4,1]])\n",
    "a=np.matrix(a)\n",
    "print(a**25)"
   ]
  },
  {
   "attachments": {},
   "cell_type": "markdown",
   "metadata": {},
   "source": [
    "Сложение матриц\n",
    "\n",
    "Напишите программу для вычисления суммы двух матриц.\n",
    "\n",
    "Формат входных данных:</br>\n",
    "На вход программе подаются два натуральных числа n и m — количество строк и столбцов в матрицах, затем элементы первой матрицы, затем пустая строка, далее следуют элементы второй матрицы.\n",
    "\n",
    "Формат выходных данных:</br>\n",
    "Программа должна вывести результирующую матрицу, разделяя элементы символом пробела."
   ]
  },
  {
   "cell_type": "code",
   "execution_count": 21,
   "metadata": {},
   "outputs": [
    {
     "name": "stdout",
     "output_type": "stream",
     "text": [
      "4  4  4  6  \n",
      "6  9  8  4  \n"
     ]
    }
   ],
   "source": [
    "import numpy as np\n",
    "x,y=map(int,input().split())\n",
    "matrix1=[list(map(int, input().split())) for i in range(x)]\n",
    "null=input()\n",
    "matrix2=[list(map(int, input().split())) for i in range(x)]\n",
    "sum=np.array(matrix1)+np.array(matrix2)\n",
    "\n",
    "for m in range(x):\n",
    "    for n in range(y):       \n",
    "        print(str(sum[m][n]).ljust(3), end='')\n",
    "    print()"
   ]
  },
  {
   "attachments": {},
   "cell_type": "markdown",
   "metadata": {},
   "source": [
    "Умножение матриц 🌶️\n",
    "\n",
    "Напишите программу, которая перемножает две матрицы.\n",
    "\n",
    "Формат входных данных:</br>\n",
    "На вход программе подаются два натуральных числа n и m — количество строк и столбцов в первой матрице, затем элементы первой матрицы, затем пустая строка. Далее следуют числа m и k — количество строк и столбцов второй матрицы затем элементы второй матрицы.\n",
    "\n",
    "Формат выходных данных:</br>\n",
    "Программа должна вывести результирующую матрицу, разделяя элементы символом пробела."
   ]
  },
  {
   "cell_type": "code",
   "execution_count": null,
   "metadata": {},
   "outputs": [],
   "source": [
    "import numpy as np\n",
    "x,y=map(int,input().split())\n",
    "matrix1=np.array([list(map(int, input().split())) for i in range(x)])\n",
    "null=input()\n",
    "x1,y1=map(int,input().split())\n",
    "matrix2=np.array([list(map(int, input().split())) for j in range(x1)])\n",
    "matrix=np.dot(matrix1,matrix2)\n",
    "\n",
    "for p in range(len(matrix)):\n",
    "    print(*matrix[p])"
   ]
  },
  {
   "attachments": {},
   "cell_type": "markdown",
   "metadata": {},
   "source": [
    "Возведение матрицы в степень 🌶️\n",
    "\n",
    "Напишите программу, которая возводит квадратную матрицу в m-ую степень.\n",
    "\n",
    "Формат входных данных:</br>\n",
    "На вход программе подаётся натуральное число n — количество строк и столбцов в матрице, затем элементы матрицы, затем натуральное число m.\n",
    "\n",
    "Формат выходных данных:</br>\n",
    "Программа должна вывести результирующую матрицу, разделяя элементы символом пробела."
   ]
  },
  {
   "cell_type": "code",
   "execution_count": null,
   "metadata": {},
   "outputs": [],
   "source": [
    "import numpy as np\n",
    "from numpy.linalg import matrix_power\n",
    "\n",
    "matrix=np.array([list(map(int, input().split())) for i in range(int(input()))])\n",
    "matrix=matrix_power(matrix, int(input()))\n",
    "\n",
    "for p in range(len(matrix)):\n",
    "    print(*matrix[p])"
   ]
  }
 ],
 "metadata": {
  "kernelspec": {
   "display_name": "Python 3",
   "language": "python",
   "name": "python3"
  },
  "language_info": {
   "codemirror_mode": {
    "name": "ipython",
    "version": 3
   },
   "file_extension": ".py",
   "mimetype": "text/x-python",
   "name": "python",
   "nbconvert_exporter": "python",
   "pygments_lexer": "ipython3",
   "version": "3.11.3"
  },
  "orig_nbformat": 4
 },
 "nbformat": 4,
 "nbformat_minor": 2
}
