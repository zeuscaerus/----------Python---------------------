{
 "cells": [
  {
   "attachments": {},
   "cell_type": "markdown",
   "metadata": {},
   "source": [
    "5.1 Итоговая работа"
   ]
  },
  {
   "attachments": {},
   "cell_type": "markdown",
   "metadata": {},
   "source": [
    "Каждый n-ый элемент\n",
    "\n",
    "На вход программе подается строка текста, содержащая символы и число n. Из данной строки формируется список. Напишите программу, которая разделяет список на вложенные подсписки так, что n последовательных элементов принадлежат разным подспискам.\n",
    "\n",
    "Формат входных данных:</br>\n",
    "На вход программе подается строка текста, содержащая символы, отделенные символом пробела и число n на отдельной строке.\n",
    "\n",
    "Формат выходных данных:</br>\n",
    "Программа должна вывести указанный вложенный список.\n"
   ]
  },
  {
   "cell_type": "code",
   "execution_count": null,
   "metadata": {},
   "outputs": [],
   "source": [
    "x=input().split()\n",
    "n=int(input())\n",
    "s=[[]*n for _ in range(n)]\n",
    "for i in range(n):\n",
    "    for q in range(i, len(x), n):\n",
    "        s[i].append(x[q])\n",
    "print(s)"
   ]
  },
  {
   "attachments": {},
   "cell_type": "markdown",
   "metadata": {},
   "source": [
    "Максимальный в области 2\n",
    "\n",
    "Напишите программу, которая выводит максимальный элемент в заштрихованной области квадратной матрицы.\n",
    "\n",
    "Формат входных данных:</br>\n",
    "На вход программе подаётся натуральное число n — количество строк и столбцов в матрице, затем элементы матрицы.\n",
    "\n",
    "Формат выходных данных:</br>\n",
    "Программа должна вывести одно число — максимальный элемент в заштрихованной области квадратной матрицы.\n",
    "\n",
    "Примечание. Элементы побочной диагонали также учитываются."
   ]
  },
  {
   "cell_type": "code",
   "execution_count": null,
   "metadata": {},
   "outputs": [],
   "source": [
    "x=int(input())\n",
    "matrix=[list(map(int, input().split())) for i in range(x)]\n",
    "maximum=[]\n",
    "for i in range(x):\n",
    "    for j in range(x):\n",
    "        if i>x-1-j or i==x-1-j:\n",
    "            maximum.append(matrix[i][j])\n",
    "print(max(maximum))"
   ]
  },
  {
   "attachments": {},
   "cell_type": "markdown",
   "metadata": {},
   "source": [
    "Транспонирование матрицы\n",
    "\n",
    "Напишите программу, которая транспонирует квадратную матрицу.\n",
    "\n",
    "Формат входных данных:</br>\n",
    "На вход программе подаётся натуральное число n — количество строк и столбцов в матрице, затем элементы матрицы.\n",
    "\n",
    "Формат выходных данных:</br>\n",
    "Программа должна вывести транспонированную матрицу.\n",
    "\n",
    "Примечание 1. Транспонированная матрица — матрица, полученная из исходной матрицы заменой строк на столбцы.\n",
    "\n",
    "Примечание 2. Задачу можно решить без использования вспомогательного списка. "
   ]
  },
  {
   "cell_type": "code",
   "execution_count": null,
   "metadata": {},
   "outputs": [],
   "source": [
    "import numpy as np\n",
    "x=int(input())\n",
    "matrix=np.array([list(map(int, input().split())) for i in range(x)])\n",
    "arr_matrix=np.transpose(matrix)\n",
    "\n",
    "for p in range(x):\n",
    "    print(*arr_matrix[p])"
   ]
  },
  {
   "attachments": {},
   "cell_type": "markdown",
   "metadata": {},
   "source": [
    "Снежинка\n",
    "\n",
    "На вход программе подается нечетное натуральное число n. Напишите программу, которая создает матрицу размером n×n заполнив её символами . . Затем заполните символами * среднюю строку и столбец матрицы, главную и побочную диагональ матрицы. Выведите полученную матрицу на экран, разделяя элементы пробелами.\n",
    "\n",
    "Формат входных данных:</br>\n",
    "На вход программе подается нечетное натуральное число n,(n≥3) — количество строк и столбцов в матрице.\n",
    "\n",
    "Формат выходных данных:</br>\n",
    "Программа должна вывести матрицу в соответствии с условием задачи."
   ]
  },
  {
   "cell_type": "code",
   "execution_count": 54,
   "metadata": {},
   "outputs": [
    {
     "name": "stdout",
     "output_type": "stream",
     "text": [
      "* . * . *\n",
      ". * * * .\n",
      "* * * * *\n",
      ". * * * .\n",
      "* . * . *\n"
     ]
    }
   ],
   "source": [
    "x=int(input())\n",
    "matrix=[['.']*x for _ in range(x)]\n",
    "for i in range(x):\n",
    "    for j in range(x):\n",
    "        if i==j or i==x-1-j or i==(x-1)/2 or j==(x-1)/2:\n",
    "            matrix[i][j]='*'\n",
    "\n",
    "for p in range(x):\n",
    "    print(*matrix[p])"
   ]
  },
  {
   "attachments": {},
   "cell_type": "markdown",
   "metadata": {},
   "source": [
    "Симметричная матрица\n",
    "\n",
    "Напишите программу проверки симметричности квадратной матрицы относительно побочной диагонали.\n",
    "\n",
    "Формат входных данных:</br>\n",
    "На вход программе подаётся натуральное число n — количество строк и столбцов в матрице, затем элементы матрицы.\n",
    "\n",
    "Формат выходных данных:</br>\n",
    "Программа должна вывести YES, если матрица симметрична, и слово NO в противном случае."
   ]
  },
  {
   "cell_type": "code",
   "execution_count": 83,
   "metadata": {},
   "outputs": [
    {
     "name": "stdout",
     "output_type": "stream",
     "text": [
      "YES\n"
     ]
    }
   ],
   "source": [
    "x=int(input())\n",
    "matrix=[list(map(int, input().split())) for i in range(x)]\n",
    "result='YES'\n",
    "for l in range(x):\n",
    "    for m in range(x):\n",
    "        if matrix[l][m]!=matrix[x-m-1][x-l-1]:\n",
    "            result='NO'\n",
    "            break\n",
    "    if result=='NO':\n",
    "        break\n",
    "print(result)"
   ]
  },
  {
   "attachments": {},
   "cell_type": "markdown",
   "metadata": {},
   "source": [
    " Латинский квадрат 🌶️\n",
    "\n",
    "Латинским квадратом порядка n называется квадратная матрица размером n×n, каждая строка и каждый столбец которой содержат все числа от 1 до n. Напишите программу, которая проверяет, является ли заданная квадратная матрица латинским квадратом.\n",
    "\n",
    "Формат входных данных:</br>\n",
    "На вход программе подаётся натуральное число n — количество строк и столбцов в матрице, затем элементы матрицы: n строк по n чисел в каждой, разделённые пробелами.\n",
    "\n",
    "Формат выходных данных:</br>\n",
    "Программа должна вывести слово YES, если матрица является латинским квадратом, и слово NO, если не является."
   ]
  },
  {
   "cell_type": "code",
   "execution_count": 89,
   "metadata": {},
   "outputs": [
    {
     "name": "stdout",
     "output_type": "stream",
     "text": [
      "NO\n",
      "[1, 2, 3]\n"
     ]
    }
   ],
   "source": [
    "x=int(input())\n",
    "matrix=[list(map(int, input().split())) for i in range(x)]\n",
    "result='YES'\n",
    "total=[]\n",
    "for i in range(1,x+1):\n",
    "    total.append(i)\n",
    "for j in range(x):\n",
    "    if sorted(matrix[j])!=total and j<x:\n",
    "        result='NO'\n",
    "        break\n",
    "    for k in range(x):\n",
    "        col=sorted([matrix[k][j] for k in range(x)])\n",
    "        if col!=total:\n",
    "            result='NO'\n",
    "            break \n",
    "print(result)"
   ]
  },
  {
   "attachments": {},
   "cell_type": "markdown",
   "metadata": {},
   "source": [
    "Ходы ферзя\n",
    "\n",
    "На шахматной доске 8×8 стоит ферзь. Отметьте положение ферзя на доске и все клетки, которые бьет ферзь. Клетку, где стоит ферзь, отметьте буквой Q, клетки, которые бьет ферзь, отметьте символами *, остальные клетки заполните точками.\n",
    "\n",
    "Формат входных данных:</br>\n",
    "На вход программе подаются координаты ферзя на шахматной доске в шахматной нотации (то есть в виде e4, где сначала записывается номер столбца (буква от a до h, слева направо), затем номер строки (цифра от 1 до 8, снизу вверх)).\n",
    "\n",
    "Формат выходных данных:</br>\n",
    "Программа должна вывести на экран изображение доски, разделяя элементы пробелами."
   ]
  },
  {
   "cell_type": "code",
   "execution_count": 90,
   "metadata": {},
   "outputs": [
    {
     "name": "stdout",
     "output_type": "stream",
     "text": [
      ". . * . . . * .\n",
      ". . * . . * . .\n",
      "* . * . * . . .\n",
      ". * * * . . . .\n",
      "* * Q * * * * *\n",
      ". * * * . . . .\n",
      "* . * . * . . .\n",
      ". . * . . * . .\n"
     ]
    }
   ],
   "source": [
    "x,y=input()\n",
    "n=8\n",
    "matrix=[['.']*n for _ in range(n)]\n",
    "y=n-int(y)\n",
    "x=ord(x)-97\n",
    "for i in range(n):\n",
    "    for q in range(n):\n",
    "        if i==y or q==x:\n",
    "            matrix[i][q]='*'\n",
    "        elif (i+q==y+x) or (i-q==y-x):\n",
    "            matrix[i][q]='*'\n",
    "matrix[y][x]='Q'\n",
    "for p in range(n):\n",
    "    print(*matrix[p])"
   ]
  },
  {
   "attachments": {},
   "cell_type": "markdown",
   "metadata": {},
   "source": [
    "Диагонали параллельные главной\n",
    "\n",
    "На вход программе подается натуральное число n. Напишите программу, которая создает матрицу размером n×n и заполняет её по следующему правилу:</br>\n",
    "- на главной диагонали на месте каждого элемента должно стоять число 0;\n",
    "- на двух диагоналях, прилегающих к главной, число 1;\n",
    "- на следующих двух диагоналях число 2, и т.д.\n",
    "\n",
    "Формат входных данных:</br>\n",
    "На вход программе подается натуральное число n — количество строк и столбцов в матрице.\n",
    "\n",
    "Формат выходных данных:</br>\n",
    "Программа должна вывести матрицу в соответствии с условием задачи."
   ]
  },
  {
   "cell_type": "code",
   "execution_count": 122,
   "metadata": {},
   "outputs": [
    {
     "name": "stdout",
     "output_type": "stream",
     "text": [
      "0 1 2 3 4\n",
      "1 0 1 2 3\n",
      "2 1 0 1 2\n",
      "3 2 1 0 1\n",
      "4 3 2 1 0\n"
     ]
    }
   ],
   "source": [
    "x=int(input())\n",
    "matrix=[[0]*x for _ in range(x)]\n",
    "for i in range(x):\n",
    "    for j in range(x):\n",
    "        if i>j:\n",
    "            matrix[i][j]=i-j\n",
    "        if i<j:\n",
    "            matrix[i][j]=j-i\n",
    "     \n",
    "for p in range(x):\n",
    "    print(*matrix[p])"
   ]
  }
 ],
 "metadata": {
  "kernelspec": {
   "display_name": "Python 3",
   "language": "python",
   "name": "python3"
  },
  "language_info": {
   "codemirror_mode": {
    "name": "ipython",
    "version": 3
   },
   "file_extension": ".py",
   "mimetype": "text/x-python",
   "name": "python",
   "nbconvert_exporter": "python",
   "pygments_lexer": "ipython3",
   "version": "3.11.3"
  },
  "orig_nbformat": 4
 },
 "nbformat": 4,
 "nbformat_minor": 2
}
