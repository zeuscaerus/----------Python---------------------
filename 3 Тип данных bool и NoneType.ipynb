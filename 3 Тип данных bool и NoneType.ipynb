{
 "cells": [
  {
   "attachments": {},
   "cell_type": "markdown",
   "metadata": {},
   "source": [
    "3.1 Тип данных bool"
   ]
  },
  {
   "attachments": {},
   "cell_type": "markdown",
   "metadata": {},
   "source": [
    "Что будет выведено на экран в результате выполнения следующей программы?\n",
    "\n",
    "num1 = 3 * True - (True + False)</br>\n",
    "num2 = (True + True + False) ** 3 + 5</br>\n",
    "print(num1 + num2)"
   ]
  },
  {
   "cell_type": "code",
   "execution_count": 10,
   "metadata": {},
   "outputs": [
    {
     "name": "stdout",
     "output_type": "stream",
     "text": [
      "15\n"
     ]
    }
   ],
   "source": [
    "num1 = 3 * True - (True + False)\n",
    "num2 = (True + True + False) ** 3 + 5\n",
    "print(num1 + num2)"
   ]
  },
  {
   "attachments": {},
   "cell_type": "markdown",
   "metadata": {},
   "source": [
    "Что будет выведено на экран в результате выполнения следующей программы?\n",
    "\n",
    "a = 6</br>\n",
    "b = 10</br>\n",
    "print(not a == 10 and b == 10)"
   ]
  },
  {
   "cell_type": "code",
   "execution_count": 11,
   "metadata": {},
   "outputs": [
    {
     "name": "stdout",
     "output_type": "stream",
     "text": [
      "True\n"
     ]
    }
   ],
   "source": [
    "a = 6\n",
    "b = 10\n",
    "print(not a == 10 and b == 10)"
   ]
  },
  {
   "attachments": {},
   "cell_type": "markdown",
   "metadata": {},
   "source": [
    "Что будет выведено на экран в результате выполнения следующей программы?\n",
    "\n",
    "a = 6</br>\n",
    "b = 10</br>\n",
    "print(not(not a == 10 or not b == 10))"
   ]
  },
  {
   "cell_type": "code",
   "execution_count": 12,
   "metadata": {},
   "outputs": [
    {
     "name": "stdout",
     "output_type": "stream",
     "text": [
      "False\n"
     ]
    }
   ],
   "source": [
    "a = 6\n",
    "b = 10\n",
    "print(not(not a == 10 or not b == 10))"
   ]
  },
  {
   "attachments": {},
   "cell_type": "markdown",
   "metadata": {},
   "source": [
    "Что будет выведено на экран в результате выполнения следующей программы?\n",
    "\n",
    "numbers = [-6, -8, 0, 1, 3, 8, -7, 12, 17, 24, 25, 3, 5, 1]</br>\n",
    "res = 0</br>\n",
    "for num in numbers:</br>\n",
    "    res += (num % 2 == 1) and (num > 1)</br> \n",
    "print(res)"
   ]
  },
  {
   "cell_type": "code",
   "execution_count": 13,
   "metadata": {},
   "outputs": [
    {
     "name": "stdout",
     "output_type": "stream",
     "text": [
      "5\n"
     ]
    }
   ],
   "source": [
    "numbers = [-6, -8, 0, 1, 3, 8, -7, 12, 17, 24, 25, 3, 5, 1]\n",
    "res = 0\n",
    "for num in numbers:\n",
    "    res += (num % 2 == 1) and (num > 1) \n",
    "print(res)"
   ]
  },
  {
   "attachments": {},
   "cell_type": "markdown",
   "metadata": {},
   "source": [
    "Что будет выведено на экран в результате выполнения следующей программы?\n",
    "\n",
    "print(bool(0.0))"
   ]
  },
  {
   "cell_type": "code",
   "execution_count": 4,
   "metadata": {},
   "outputs": [
    {
     "name": "stdout",
     "output_type": "stream",
     "text": [
      "False\n"
     ]
    }
   ],
   "source": [
    "print(bool(0.0))"
   ]
  },
  {
   "attachments": {},
   "cell_type": "markdown",
   "metadata": {},
   "source": [
    "Что будет выведено на экран в результате выполнения следующей программы?\n",
    "\n",
    "print(bool())"
   ]
  },
  {
   "cell_type": "code",
   "execution_count": 5,
   "metadata": {},
   "outputs": [
    {
     "name": "stdout",
     "output_type": "stream",
     "text": [
      "False\n"
     ]
    }
   ],
   "source": [
    "print(bool())"
   ]
  },
  {
   "attachments": {},
   "cell_type": "markdown",
   "metadata": {},
   "source": [
    "Что будет выведено на экран в результате выполнения следующей программы?\n",
    "\n",
    "print(bool('abc'))"
   ]
  },
  {
   "cell_type": "code",
   "execution_count": 6,
   "metadata": {},
   "outputs": [
    {
     "name": "stdout",
     "output_type": "stream",
     "text": [
      "True\n"
     ]
    }
   ],
   "source": [
    "print(bool('abc'))"
   ]
  },
  {
   "attachments": {},
   "cell_type": "markdown",
   "metadata": {},
   "source": [
    "Что будет выведено на экран в результате выполнения следующей программы?\n",
    "\n",
    "print(bool(list(range(10))))"
   ]
  },
  {
   "cell_type": "code",
   "execution_count": 9,
   "metadata": {},
   "outputs": [
    {
     "name": "stdout",
     "output_type": "stream",
     "text": [
      "True\n"
     ]
    }
   ],
   "source": [
    "print(bool(list(range(10))))"
   ]
  },
  {
   "attachments": {},
   "cell_type": "markdown",
   "metadata": {},
   "source": [
    "Предикат делимости\n",
    "\n",
    "Напишите функцию func(num1, num2), принимающую в качестве аргументов два натуральных числа num1 и num2 и возвращающую значение True если число num1 делится без остатка на число num2 и False в противном случае.\n",
    "\n",
    "Результатом вывода программы должно быть \"делится\" (если функция func() вернула True) и \"не делится\" (если функция func() вернула False).\n",
    "\n",
    "Примечание. Следующий программный код:</br>\n",
    "print(func(10, 2))</br>\n",
    "print(func(5, 7))</br>\n",
    "print(func(15, 15))\n",
    "\n",
    "должен выводить:</br>\n",
    "True</br>\n",
    "False</br>\n",
    "True\n",
    "\n",
    "а вся программа должна выводить:</br>\n",
    "делится</br>\n",
    "не делится</br>\n",
    "делится"
   ]
  },
  {
   "cell_type": "code",
   "execution_count": 8,
   "metadata": {},
   "outputs": [
    {
     "name": "stdout",
     "output_type": "stream",
     "text": [
      "не делится\n"
     ]
    }
   ],
   "source": [
    "# объявление функции\n",
    "def func(num1, num2):\n",
    "    return bool(num1%num2)\n",
    "\n",
    "# считываем данные\n",
    "num1, num2 = int(input()), int(input())\n",
    "\n",
    "# вызываем функцию\n",
    "if not func(num1, num2):\n",
    "    print('делится')\n",
    "else:\n",
    "    print('не делится')"
   ]
  },
  {
   "attachments": {},
   "cell_type": "markdown",
   "metadata": {},
   "source": [
    "Что будет выведено на экран в результате выполнения следующей программы?\n",
    "\n",
    "print(None == None)"
   ]
  },
  {
   "cell_type": "code",
   "execution_count": 10,
   "metadata": {},
   "outputs": [
    {
     "name": "stdout",
     "output_type": "stream",
     "text": [
      "True\n"
     ]
    }
   ],
   "source": [
    "print(None == None)"
   ]
  },
  {
   "attachments": {},
   "cell_type": "markdown",
   "metadata": {},
   "source": [
    "Что будет выведено на экран в результате выполнения следующей программы?\n",
    "\n",
    "print(None == 0)"
   ]
  },
  {
   "cell_type": "code",
   "execution_count": 11,
   "metadata": {},
   "outputs": [
    {
     "name": "stdout",
     "output_type": "stream",
     "text": [
      "False\n"
     ]
    }
   ],
   "source": [
    "print(None == 0)"
   ]
  },
  {
   "attachments": {},
   "cell_type": "markdown",
   "metadata": {},
   "source": [
    "Что будет выведено на экран в результате выполнения следующей программы?\n",
    "\n",
    "print(None == False)"
   ]
  },
  {
   "cell_type": "code",
   "execution_count": 12,
   "metadata": {},
   "outputs": [
    {
     "name": "stdout",
     "output_type": "stream",
     "text": [
      "False\n"
     ]
    }
   ],
   "source": [
    "print(None == False)"
   ]
  },
  {
   "attachments": {},
   "cell_type": "markdown",
   "metadata": {},
   "source": [
    "Что будет выведено на экран в результате выполнения следующей программы?\n",
    "\n",
    "empty = ''\n",
    "print(None == empty)"
   ]
  },
  {
   "cell_type": "code",
   "execution_count": 13,
   "metadata": {},
   "outputs": [
    {
     "name": "stdout",
     "output_type": "stream",
     "text": [
      "False\n"
     ]
    }
   ],
   "source": [
    "empty = ''\n",
    "print(None == empty)"
   ]
  }
 ],
 "metadata": {
  "kernelspec": {
   "display_name": "Python 3",
   "language": "python",
   "name": "python3"
  },
  "language_info": {
   "codemirror_mode": {
    "name": "ipython",
    "version": 3
   },
   "file_extension": ".py",
   "mimetype": "text/x-python",
   "name": "python",
   "nbconvert_exporter": "python",
   "pygments_lexer": "ipython3",
   "version": "3.11.2"
  },
  "orig_nbformat": 4
 },
 "nbformat": 4,
 "nbformat_minor": 2
}
