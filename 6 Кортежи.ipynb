{
 "cells": [
  {
   "attachments": {},
   "cell_type": "markdown",
   "metadata": {},
   "source": [
    "6.2 Основы работы с кортежами. Часть 1"
   ]
  },
  {
   "attachments": {},
   "cell_type": "markdown",
   "metadata": {},
   "source": [
    "Дополните приведенный код, используя индексацию кортежа, чтобы переменная last, содержала последний элемент кортежа countries."
   ]
  },
  {
   "cell_type": "code",
   "execution_count": 1,
   "metadata": {},
   "outputs": [
    {
     "name": "stdout",
     "output_type": "stream",
     "text": [
      "Italy\n"
     ]
    }
   ],
   "source": [
    "countries = ('Russia', 'Argentina', 'Spain', 'Slovakia', 'Canada', 'Slovenia', 'Italy')\n",
    "last =countries[-1]\n",
    "print(last)"
   ]
  },
  {
   "attachments": {},
   "cell_type": "markdown",
   "metadata": {},
   "source": [
    "Дополните приведенный код, используя срезы, так чтобы он вывел первые 6 элементов кортежа primes.\n",
    "\n",
    "Примечание. Результатом вывода должна быть строка (2, 3, 5, 7, 11, 13)."
   ]
  },
  {
   "cell_type": "code",
   "execution_count": 2,
   "metadata": {},
   "outputs": [
    {
     "name": "stdout",
     "output_type": "stream",
     "text": [
      "(2, 3, 5, 7, 11, 13)\n"
     ]
    }
   ],
   "source": [
    "primes = (2, 3, 5, 7, 11, 13, 17, 19, 23, 29, 31, 37, 41, 43, 47, 53, 59, 61, 67, 71) \n",
    "print(primes[0:6])"
   ]
  },
  {
   "attachments": {},
   "cell_type": "markdown",
   "metadata": {},
   "source": [
    "Дополните приведенный код, используя срезы, так чтобы он вывел элементы кортежа countries, кроме первых двух.\n",
    "\n",
    "Примечание. Результатом вывода должна быть строка ('Slovakia', 'Canada', 'Slovenia', 'Italy', 'Spain', 'Ukraine', 'Chile', 'Cameroon')."
   ]
  },
  {
   "cell_type": "code",
   "execution_count": 3,
   "metadata": {},
   "outputs": [
    {
     "name": "stdout",
     "output_type": "stream",
     "text": [
      "('Slovakia', 'Canada', 'Slovenia', 'Italy', 'Spain', 'Ukraine', 'Chile', 'Cameroon')\n"
     ]
    }
   ],
   "source": [
    "countries = ('Russia', 'Argentina', 'Slovakia', 'Canada', 'Slovenia', 'Italy', 'Spain', 'Ukraine', 'Chile', 'Cameroon')\n",
    "print(countries[2:])"
   ]
  },
  {
   "attachments": {},
   "cell_type": "markdown",
   "metadata": {},
   "source": [
    "Дополните приведенный код, используя срезы, чтобы он вывел все элементы кортежа countries, кроме последних трех."
   ]
  },
  {
   "cell_type": "code",
   "execution_count": 4,
   "metadata": {},
   "outputs": [
    {
     "name": "stdout",
     "output_type": "stream",
     "text": [
      "('Russia', 'Argentina', 'Slovakia', 'Canada', 'Slovenia', 'Italy', 'Spain')\n"
     ]
    }
   ],
   "source": [
    "countries = ('Russia', 'Argentina', 'Slovakia', 'Canada', 'Slovenia', 'Italy', 'Spain', 'Ukraine', 'Chile', 'Cameroon')\n",
    "print(countries[:-3])"
   ]
  },
  {
   "attachments": {},
   "cell_type": "markdown",
   "metadata": {},
   "source": [
    "Дополните приведенный код, используя срезы, чтобы он вывел все элементы кортежа countries, кроме двух последних и трех первых."
   ]
  },
  {
   "cell_type": "code",
   "execution_count": 5,
   "metadata": {},
   "outputs": [
    {
     "name": "stdout",
     "output_type": "stream",
     "text": [
      "('Canada', 'Slovenia', 'Italy', 'Spain', 'Ukraine')\n"
     ]
    }
   ],
   "source": [
    "countries = ('Russia', 'Argentina', 'Slovakia', 'Canada', 'Slovenia', 'Italy', 'Spain', 'Ukraine', 'Chile', 'Cameroon')\n",
    "print(countries[3:-2])"
   ]
  },
  {
   "attachments": {},
   "cell_type": "markdown",
   "metadata": {},
   "source": [
    "Дополните приведенный код так, чтобы переменная number содержала количество элементов кортежа countries."
   ]
  },
  {
   "cell_type": "code",
   "execution_count": 6,
   "metadata": {},
   "outputs": [
    {
     "name": "stdout",
     "output_type": "stream",
     "text": [
      "7\n"
     ]
    }
   ],
   "source": [
    "countries = ('Romania', 'Poland', 'Estonia', 'Bulgaria', 'Slovakia', 'Slovenia', 'Hungary')\n",
    "number = len(countries)\n",
    "print(number)"
   ]
  },
  {
   "attachments": {},
   "cell_type": "markdown",
   "metadata": {},
   "source": [
    "Дополните приведенный код так, чтобы он вывел сумму минимального и максимального элементов кортежа numbers."
   ]
  },
  {
   "cell_type": "code",
   "execution_count": 7,
   "metadata": {},
   "outputs": [
    {
     "name": "stdout",
     "output_type": "stream",
     "text": [
      "13.6618\n"
     ]
    }
   ],
   "source": [
    "numbers = (12.5, 3.1415, 2.718, 9.8, 1.414, 1.1618, 1.324)\n",
    "sum=max(numbers)+min(numbers)\n",
    "print(sum)"
   ]
  },
  {
   "attachments": {},
   "cell_type": "markdown",
   "metadata": {},
   "source": [
    "Дополните приведенный код так, чтобы переменная index содержала индекс элемента «Slovenia» в кортеже countries."
   ]
  },
  {
   "cell_type": "code",
   "execution_count": 8,
   "metadata": {},
   "outputs": [
    {
     "name": "stdout",
     "output_type": "stream",
     "text": [
      "5\n"
     ]
    }
   ],
   "source": [
    "countries = ('Russia', 'Argentina', 'Spain', 'Slovakia', 'Canada', 'Slovenia', 'Italy')\n",
    "index = countries.index('Slovenia')\n",
    "print(index)"
   ]
  },
  {
   "attachments": {},
   "cell_type": "markdown",
   "metadata": {},
   "source": [
    "Дополните приведенный код так, чтобы переменная number, содержала количество вхождений «Spain» в кортеж countries."
   ]
  },
  {
   "cell_type": "code",
   "execution_count": 10,
   "metadata": {},
   "outputs": [
    {
     "name": "stdout",
     "output_type": "stream",
     "text": [
      "3\n"
     ]
    }
   ],
   "source": [
    "countries = ('Russia', 'Argentina', 'Spain', 'Slovakia', 'Canada', 'Slovenia', 'Italy', 'Spain', 'Ukraine', \n",
    "'Chile', 'Spain', 'Cameroon')\n",
    "number = countries.count('Spain')\n",
    "print(number)"
   ]
  },
  {
   "attachments": {},
   "cell_type": "markdown",
   "metadata": {},
   "source": [
    "Дополните приведенный код, используя операторы конкатенации (+) и умножения кортежа на число (*), чтобы он вывел кортеж: (1, 2, 3, 1, 2, 3, 6, 6, 6, 6, 6, 6, 6, 6, 6, 7, 8, 9, 10, 11, 12, 13)."
   ]
  },
  {
   "cell_type": "code",
   "execution_count": 11,
   "metadata": {},
   "outputs": [
    {
     "name": "stdout",
     "output_type": "stream",
     "text": [
      "(1, 2, 3, 1, 2, 3, 6, 6, 6, 6, 6, 6, 6, 6, 6, 7, 8, 9, 10, 11, 12, 13)\n"
     ]
    }
   ],
   "source": [
    "numbers1 = (1, 2, 3)*2\n",
    "numbers2 = (6,)*9\n",
    "numbers3 = (7, 8, 9, 10, 11, 12, 13)\n",
    "print(numbers1+numbers2+numbers3)"
   ]
  },
  {
   "attachments": {},
   "cell_type": "markdown",
   "metadata": {},
   "source": [
    "В переменную city_name вводится название города (например, Москва), а в переменную city_year – год его основания (например, 1147). Заполните пропущенную строку таким образом, чтобы в переменной city оказался кортеж из значений этих двух переменных (сначала название города, затем год основания)."
   ]
  },
  {
   "cell_type": "code",
   "execution_count": 12,
   "metadata": {},
   "outputs": [
    {
     "name": "stdout",
     "output_type": "stream",
     "text": [
      "('Москва', 1147)\n"
     ]
    }
   ],
   "source": [
    "city_name = input()\n",
    "city_year = int(input())\n",
    "city = (city_name,city_year)\n",
    "print(city)"
   ]
  },
  {
   "attachments": {},
   "cell_type": "markdown",
   "metadata": {},
   "source": [
    "Дополните приведенный код, так чтобы получить список, содержащий только непустые кортежи исходного списка tuples, не меняя порядка их следования."
   ]
  },
  {
   "cell_type": "code",
   "execution_count": 41,
   "metadata": {},
   "outputs": [
    {
     "name": "stdout",
     "output_type": "stream",
     "text": [
      "[('',), ('a', 'b'), ('a', 'b', 'c'), (1,), ('d',), ('', '')]\n"
     ]
    }
   ],
   "source": [
    "tuples = [(), (), ('',), ('a', 'b'), (), ('a', 'b', 'c'), (1,), (), (), ('d',), ('', ''), ()]\n",
    "non_empty_tuples = [i for i in tuples if len(i) > 0]\n",
    "\n",
    "print(non_empty_tuples)"
   ]
  },
  {
   "attachments": {},
   "cell_type": "markdown",
   "metadata": {},
   "source": [
    "Дополните приведенный код так, чтобы переменная new_tuples, содержала список кортежей на основе списка tuples с последним элементом каждого кортежа, замененным на численное значение 100."
   ]
  },
  {
   "cell_type": "code",
   "execution_count": 63,
   "metadata": {},
   "outputs": [
    {
     "name": "stdout",
     "output_type": "stream",
     "text": [
      "[(10, 20, 100), (40, 50, 100), (70, 80, 100), (10, 100), (1, 2, 3, 100), (5, 6, 10, 2, 1, 100)]\n"
     ]
    }
   ],
   "source": [
    "tuples = [(10, 20, 40), (40, 50, 60), (70, 80, 90), (10, 90), (1, 2, 3, 4), (5, 6, 10, 2, 1, 77)]\n",
    "new_tuples=[i[:-1] + (100,) for i in tuples]\n",
    "print(new_tuples)"
   ]
  },
  {
   "attachments": {},
   "cell_type": "markdown",
   "metadata": {},
   "source": [
    "6.3 Основы работы с кортежами. Часть 2"
   ]
  },
  {
   "attachments": {},
   "cell_type": "markdown",
   "metadata": {},
   "source": [
    "Что будет выведено на экран в результате работы следующей программы?"
   ]
  },
  {
   "cell_type": "code",
   "execution_count": 64,
   "metadata": {},
   "outputs": [
    {
     "name": "stdout",
     "output_type": "stream",
     "text": [
      "('Есенин', 13)\n",
      "('Маяковский', 28)\n"
     ]
    }
   ],
   "source": [
    "poets = [\n",
    "    ('Есенин', 13),\n",
    "    ('Тургенев', 14),\n",
    "    ('Маяковский', 28),\n",
    "    ('Лермонтов', 20),\n",
    "    ('Фет', 15)]\n",
    "for i in range(len(poets)):\n",
    "    for j in range(i+1, len(poets)):\n",
    "        if poets[i][1] > poets[j][1]:\n",
    "            poets[i], poets[j] = poets[j], poets[i]\n",
    "print(poets[0])\n",
    "print(poets[-1])"
   ]
  },
  {
   "attachments": {},
   "cell_type": "markdown",
   "metadata": {},
   "source": [
    "Что будет выведено на экран в результате работы следующей программы?"
   ]
  },
  {
   "cell_type": "code",
   "execution_count": 65,
   "metadata": {},
   "outputs": [
    {
     "name": "stdout",
     "output_type": "stream",
     "text": [
      "('Есенин', 13)\n",
      "('Фет', 15)\n"
     ]
    }
   ],
   "source": [
    "poets = [\n",
    "    ('Тургенев', 14),\n",
    "    ('Есенин', 13),\n",
    "    ('Маяковский', 28),\n",
    "    ('Фет', 15),\n",
    "    ('Лермонтов', 20)]\n",
    "for i in range(len(poets)):\n",
    "    for j in range(i+1, len(poets)):\n",
    "        if poets[i] > poets[j]:\n",
    "            poets[i], poets[j] = poets[j], poets[i]\n",
    "print(poets[0])\n",
    "print(poets[-1])"
   ]
  },
  {
   "attachments": {},
   "cell_type": "markdown",
   "metadata": {},
   "source": [
    "Дополните приведенный код так, чтобы он вывел произведение элементов кортежа numbers."
   ]
  },
  {
   "cell_type": "code",
   "execution_count": 66,
   "metadata": {},
   "outputs": [
    {
     "name": "stdout",
     "output_type": "stream",
     "text": [
      "129638530920927229333292160000\n"
     ]
    }
   ],
   "source": [
    "import math\n",
    "numbers = (2, 3, 5, 7, -11, 13, 17, 19, 23, 29, 31, -6, 41, 43, 47, 53, 59, 61, -96, 71, 1000, -1)\n",
    "ans=math.prod(list(numbers))\n",
    "print(ans)\n"
   ]
  },
  {
   "attachments": {},
   "cell_type": "markdown",
   "metadata": {},
   "source": [
    "Дополните приведенный код так, чтобы он преобразовал строку в кортеж символов строки и вывел результат."
   ]
  },
  {
   "cell_type": "code",
   "execution_count": 67,
   "metadata": {},
   "outputs": [
    {
     "name": "stdout",
     "output_type": "stream",
     "text": [
      "('P', 'y', 't', 'h', 'o', 'n', ' ', 'д', 'л', 'я', ' ', 'п', 'р', 'о', 'д', 'в', 'и', 'н', 'у', 'т', 'ы', 'х', '!')\n"
     ]
    }
   ],
   "source": [
    "data = 'Python для продвинутых!'\n",
    "t=tuple(data)\n",
    "print(t)"
   ]
  },
  {
   "attachments": {},
   "cell_type": "markdown",
   "metadata": {},
   "source": [
    "Программист Тимур написал программу для работы с биографическими данными русских поэтов. Данные содержатся в кортежах вида (фамилия, год рождения, город рождения). В процессе работы программы в некотором кортеже poet_data обнаружилась ошибка: ('Пушкин', 1799, 'Санкт-Петербург'), неверно указано место рождения, ведь Александр Пушкин родился в Москве.\n",
    "\n",
    "Дополните приведенный код так, чтобы в переменной poet_data находился правильный кортеж (с исправленным значением), а затем выведите его содержимое."
   ]
  },
  {
   "cell_type": "code",
   "execution_count": 78,
   "metadata": {},
   "outputs": [
    {
     "name": "stdout",
     "output_type": "stream",
     "text": [
      "('Пушкин', 1799, 'Москва')\n"
     ]
    }
   ],
   "source": [
    "poet_data = ('Пушкин', 1799, 'Санкт-Петербург')\n",
    "poet_data = tuple(list(poet_data)[:-1]+['Москва'])\n",
    "print(poet_data)"
   ]
  },
  {
   "attachments": {},
   "cell_type": "markdown",
   "metadata": {},
   "source": [
    "Дополните приведенный код так, чтобы он вывел список, содержащий средние арифметические значения чисел каждого вложенного кортежа в заданном кортеже кортежей numbers."
   ]
  },
  {
   "cell_type": "code",
   "execution_count": 168,
   "metadata": {},
   "outputs": [
    {
     "name": "stdout",
     "output_type": "stream",
     "text": [
      "[10.5, 44, 58, 2.5, 50]\n"
     ]
    }
   ],
   "source": [
    "from statistics import mean\n",
    "numbers = ((10, 10, 10, 12), (30, 45, 56, 45), (81, 80, 39, 32), (1, 2, 3, 4), (90, 10))\n",
    "numbers=list([mean(list((numbers[i]))) for i in range(len(numbers))])\n",
    "print(numbers)"
   ]
  },
  {
   "cell_type": "code",
   "execution_count": 1,
   "metadata": {},
   "outputs": [
    {
     "name": "stdout",
     "output_type": "stream",
     "text": [
      "[10.5, 44.0, 58.0, 2.5, 50.0]\n"
     ]
    }
   ],
   "source": [
    "numbers = ((10, 10, 10, 12), (30, 45, 56, 45), (81, 80, 39, 32), (1, 2, 3, 4), (90, 10))\n",
    "print([sum(i)/len(i) for i in numbers])"
   ]
  },
  {
   "attachments": {},
   "cell_type": "markdown",
   "metadata": {},
   "source": [
    "Вершина параболы\n",
    "\n",
    "Уравнение параболы имеет вид y=ax^2+bx+c, где a!=0. Напишите программу, которая по введенным значениям a,b,c определяет и выводит вершину параболы.\n",
    "\n",
    "Формат входных данных:</br>\n",
    "На вход программе подаются три целых числа, каждое на отдельной строке.\n",
    "\n",
    "Формат выходных данных:</br>\n",
    "Программа должна вывести координаты вершины параболы.\n",
    "\n",
    "Примечание. Координаты вершины параболы y=ax^2+bx+c имеют вид (a; b), где:</br>\n",
    "- a = -(b/2*a)\n",
    "- b = (4*a*c-b^2)/(4*a)\n"
   ]
  },
  {
   "cell_type": "code",
   "execution_count": 4,
   "metadata": {},
   "outputs": [
    {
     "name": "stdout",
     "output_type": "stream",
     "text": [
      "(1.5, 5.5)\n"
     ]
    }
   ],
   "source": [
    "def height(a: int, b: int, c: int):\n",
    "    point1=-(b/(2*a))\n",
    "    point2=(4*a*c-b**2)/(4*a)\n",
    "    return (point1, point2)\n",
    "\n",
    "x,y,z=int(input()),int(input()),int(input())\n",
    "print(height(x,y,z))"
   ]
  },
  {
   "attachments": {},
   "cell_type": "markdown",
   "metadata": {},
   "source": [
    "Конкурсный отбор\n",
    "\n",
    "Напишите программу, которая выводит список хорошистов и отличников в классе.\n",
    "\n",
    "Формат входных данных:</br>\n",
    "На вход программе подается натуральное число n, далее следует n строк с фамилией школьника и его оценкой на каждой из них.\n",
    "\n",
    "Формат выходных данных:</br>\n",
    "Программа должна вывести сначала все введённые строки с фамилиями и оценками учеников в том же порядке. Затем следует пустая строка, а затем выводятся строки с фамилиями и оценками хорошистов и отличников (в том же порядке).\n",
    "\n",
    "Примечание 1. Оценка ученика – это натуральное число от 1 до 5.\n",
    "\n",
    "Примечание 2. Гарантируется, что в классе есть хотя бы один хорошист – обладатель оценки 4, или отличник – получивший 5."
   ]
  },
  {
   "cell_type": "code",
   "execution_count": 43,
   "metadata": {},
   "outputs": [
    {
     "name": "stdout",
     "output_type": "stream",
     "text": [
      "Гуев 3\n",
      "Чаниев 5\n",
      "Барсуков 2\n",
      "\n",
      "Чаниев 5\n"
     ]
    }
   ],
   "source": [
    "x=int(input())\n",
    "lst=[input().split() for _ in range(x)]\n",
    "for i in range(x):\n",
    "    for j in range(x):\n",
    "        if j==1:\n",
    "            lst[i][j]=int(lst[i][j])\n",
    "    print(*lst[i])\n",
    "print()\n",
    "for k in range(x):\n",
    "    if lst[k][-1]>=4:\n",
    "        print(*lst[k])"
   ]
  },
  {
   "cell_type": "code",
   "execution_count": null,
   "metadata": {},
   "outputs": [],
   "source": [
    "students = [tuple(input().split()) for _ in range(int(input()))]\n",
    "for student in students:\n",
    "    print(*student)\n",
    "print()\n",
    "for name, grade in students:\n",
    "    if int(grade) > 3:\n",
    "        print(name, grade)"
   ]
  },
  {
   "attachments": {},
   "cell_type": "markdown",
   "metadata": {},
   "source": [
    "Что выведет приведенный ниже код?\n",
    "\n",
    "a, b, c = 10, 20, 30</br>\n",
    "c, b, a = a + b, b*2, a + b + c</br>\n",
    "print(a, b, c)"
   ]
  },
  {
   "cell_type": "code",
   "execution_count": 1,
   "metadata": {},
   "outputs": [
    {
     "name": "stdout",
     "output_type": "stream",
     "text": [
      "60 40 30\n"
     ]
    }
   ],
   "source": [
    "a, b, c = 10, 20, 30\n",
    "c, b, a = a + b, b*2, a + b + c\n",
    "print(a, b, c)"
   ]
  },
  {
   "attachments": {},
   "cell_type": "markdown",
   "metadata": {},
   "source": [
    "Что выведет приведенный ниже код?\n",
    "\n",
    "points = [('матан', 100), ('линал', 98), ('ангем', 90)]</br>\n",
    "subject, value = points[1]</br>\n",
    "print(subject, value)"
   ]
  },
  {
   "cell_type": "code",
   "execution_count": 2,
   "metadata": {},
   "outputs": [
    {
     "name": "stdout",
     "output_type": "stream",
     "text": [
      "линал 98\n"
     ]
    }
   ],
   "source": [
    "points = [('матан', 100), ('линал', 98), ('ангем', 90)]\n",
    "subject, value = points[1]\n",
    "print(subject, value)"
   ]
  },
  {
   "attachments": {},
   "cell_type": "markdown",
   "metadata": {},
   "source": [
    "Что выведет приведенный ниже код?\n",
    "\n",
    "notes = ('Do', 'Re', 'Mi', 'Fa', 'Sol', 'La', 'Si')</br>\n",
    "do, re, mi, *tail = notes</br>\n",
    "print(tail)"
   ]
  },
  {
   "cell_type": "code",
   "execution_count": 3,
   "metadata": {},
   "outputs": [
    {
     "name": "stdout",
     "output_type": "stream",
     "text": [
      "['Fa', 'Sol', 'La', 'Si']\n"
     ]
    }
   ],
   "source": [
    "notes = ('Do', 'Re', 'Mi', 'Fa', 'Sol', 'La', 'Si')\n",
    "do, re, mi, *tail = notes\n",
    "print(tail)"
   ]
  },
  {
   "attachments": {},
   "cell_type": "markdown",
   "metadata": {},
   "source": [
    "Что выведет приведенный ниже код?\n",
    "\n",
    "notes = ('Do', 'Re', 'Mi', 'Fa', 'Sol', 'La', 'Si')</br>\n",
    "do, re, *tail, si = notes</br>\n",
    "print(tail)"
   ]
  },
  {
   "cell_type": "code",
   "execution_count": 4,
   "metadata": {},
   "outputs": [
    {
     "name": "stdout",
     "output_type": "stream",
     "text": [
      "['Mi', 'Fa', 'Sol', 'La']\n"
     ]
    }
   ],
   "source": [
    "notes = ('Do', 'Re', 'Mi', 'Fa', 'Sol', 'La', 'Si')\n",
    "do, re, *tail, si = notes\n",
    "print(tail)"
   ]
  },
  {
   "attachments": {},
   "cell_type": "markdown",
   "metadata": {},
   "source": [
    "Последовательность Трибоначчи\n",
    "\n",
    "Напишите программу, которая считывает натуральное число n и выводит первые n чисел последовательности Трибоначчи.\n",
    "\n",
    "Формат входных данных:</br>\n",
    "На вход программе подается одно число n(n≤100) – количество членов последовательности.\n",
    "\n",
    "Формат выходных данных:</br>\n",
    "Программа должна вывести члены последовательности Трибоначчи, отделенные символом пробела.\n",
    "\n",
    "Примечание. Последовательность Трибоначчи – последовательность натуральных чисел, где каждое последующее число является суммой трех предыдущих:</br>\n",
    "1,1, 1, 3, 5, 9, 17, 31, 57, 105 …"
   ]
  },
  {
   "cell_type": "code",
   "execution_count": 18,
   "metadata": {},
   "outputs": [
    {
     "name": "stdout",
     "output_type": "stream",
     "text": [
      "1 1 1 3 5 9 17 31 57 105\n"
     ]
    }
   ],
   "source": [
    "def tribonacci(num: int):\n",
    "    n1,n2,n3=1,1,1\n",
    "    lst=[]\n",
    "    for i in range(num):\n",
    "        lst.append(n1)\n",
    "        n1,n2,n3=n2,n3,n1+n2+n3\n",
    "    return lst\n",
    "\n",
    "x=int(input())\n",
    "print(*tribonacci(x))"
   ]
  }
 ],
 "metadata": {
  "kernelspec": {
   "display_name": "Python 3",
   "language": "python",
   "name": "python3"
  },
  "language_info": {
   "codemirror_mode": {
    "name": "ipython",
    "version": 3
   },
   "file_extension": ".py",
   "mimetype": "text/x-python",
   "name": "python",
   "nbconvert_exporter": "python",
   "pygments_lexer": "ipython3",
   "version": "3.11.3"
  },
  "orig_nbformat": 4
 },
 "nbformat": 4,
 "nbformat_minor": 2
}
